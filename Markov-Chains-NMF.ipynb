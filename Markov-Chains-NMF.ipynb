{
 "cells": [
  {
   "cell_type": "code",
   "execution_count": 24,
   "metadata": {
    "collapsed": true
   },
   "outputs": [],
   "source": [
    "import pandas as pd\n",
    "import numpy as np\n",
    "import matplotlib.pyplot as plt\n",
    "import scipy.sparse.linalg as sp_linalg"
   ]
  },
  {
   "cell_type": "code",
   "execution_count": 25,
   "metadata": {
    "collapsed": true
   },
   "outputs": [],
   "source": [
    "df = pd.read_csv('data/hw4_data/CFB2018_scores.csv', header = None)\n",
    "teams = pd.read_csv('data/hw4_data/TeamNames.txt', header = None)"
   ]
  },
  {
   "cell_type": "code",
   "execution_count": 26,
   "metadata": {
    "collapsed": true
   },
   "outputs": [],
   "source": [
    "teams.columns = ['team_name']"
   ]
  },
  {
   "cell_type": "code",
   "execution_count": 27,
   "metadata": {
    "collapsed": true
   },
   "outputs": [],
   "source": [
    "df.columns = ['a_idx','a_pts','b_idx','b_pts']"
   ]
  },
  {
   "cell_type": "code",
   "execution_count": 28,
   "metadata": {
    "collapsed": true
   },
   "outputs": [],
   "source": [
    "M = np.zeros((767,767))"
   ]
  },
  {
   "cell_type": "code",
   "execution_count": 29,
   "metadata": {
    "collapsed": true
   },
   "outputs": [],
   "source": [
    "for row in df.iterrows():\n",
    "    row= row[1]\n",
    "    team_a = row['a_idx'] -1 \n",
    "    team_b = row['b_idx'] -1 \n",
    "    a_pts = row['a_pts']\n",
    "    b_pts = row['b_pts']\n",
    "    a_ind = 0\n",
    "    b_ind =0 \n",
    "    if a_pts > b_pts:\n",
    "        a_ind = 1 \n",
    "    else:\n",
    "        b_ind =1 \n",
    "    M[team_a][team_a] = M[team_a][team_a] + a_ind + a_pts/(a_pts+b_pts)\n",
    "    M[team_b][team_b] = M[team_b][team_b] + b_ind + b_pts/(a_pts+b_pts)\n",
    "    M[team_a][team_b] = M[team_a][team_b] + b_ind + b_pts/(a_pts+b_pts)\n",
    "    M[team_b][team_a] = M[team_b][team_a] + a_ind + a_pts/(a_pts+b_pts)   \n",
    "    "
   ]
  },
  {
   "cell_type": "code",
   "execution_count": 22,
   "metadata": {
    "collapsed": true
   },
   "outputs": [],
   "source": [
    "r_sums = M.sum(axis=1)\n",
    "M= M / r_sums[:,np.newaxis]"
   ]
  },
  {
   "cell_type": "code",
   "execution_count": 8,
   "metadata": {
    "collapsed": true
   },
   "outputs": [],
   "source": [
    "wo = np.full((1,767),1/767)"
   ]
  },
  {
   "cell_type": "code",
   "execution_count": 9,
   "metadata": {
    "collapsed": true
   },
   "outputs": [],
   "source": [
    "eigval, eigvec = sp_linalg.eigs(M.T,k=1,which=\"LM\")\n",
    "ev1 = eigvec[:,0]\n",
    "winf = ev1/ev1.sum()"
   ]
  },
  {
   "cell_type": "code",
   "execution_count": 17,
   "metadata": {
    "collapsed": true
   },
   "outputs": [],
   "source": [
    "wt = wo\n",
    "out = []\n",
    "norm_out = []\n",
    "for i in range(10000):\n",
    "    wt = np.matmul(wt,M)\n",
    "    norm_out.append(np.linalg.norm((winf-wt), ord =1))\n",
    "    if i in [9,99,999,9999]:\n",
    "        rank = teams.iloc[np.argsort(-wt)[0]]\n",
    "        wt_out = wt[0][np.argsort(-wt)[0]]\n",
    "        out.append([wt_out,rank])"
   ]
  },
  {
   "cell_type": "code",
   "execution_count": 32,
   "metadata": {
    "collapsed": true
   },
   "outputs": [],
   "source": [
    "def create_report(out, which):\n",
    "    df = pd.concat([out[which][1][0:25]['team_name'].reset_index(drop=True),pd.Series(out[which][0][:25])],axis=1)\n",
    "    df.columns = ['team_name','w']\n",
    "    print(df)"
   ]
  },
  {
   "cell_type": "code",
   "execution_count": 34,
   "metadata": {},
   "outputs": [
    {
     "name": "stdout",
     "output_type": "stream",
     "text": [
      "             team_name         w\n",
      "0   Mary Hardin-Baylor  0.017640\n",
      "1              Clemson  0.014032\n",
      "2          Mount Union  0.012249\n",
      "3          Morningside  0.011157\n",
      "4      North Dakota St  0.010944\n",
      "5          Valdosta St  0.010343\n",
      "6         St John's MN  0.009912\n",
      "7              Alabama  0.009898\n",
      "8        UW-Whitewater  0.009683\n",
      "9            Ferris St  0.009671\n",
      "10       Johns Hopkins  0.009448\n",
      "11        Brockport St  0.006859\n",
      "12           Princeton  0.006811\n",
      "13     Minn St-Mankato  0.006735\n",
      "14      Benedictine KS  0.006551\n",
      "15     Kansas Wesleyan  0.005917\n",
      "16          Ohio State  0.005844\n",
      "17           Marian IN  0.005659\n",
      "18           Bethel MN  0.005655\n",
      "19          Muhlenberg  0.005540\n",
      "20         Tarleton St  0.005476\n",
      "21    Ouachita Baptist  0.005418\n",
      "22             Georgia  0.005409\n",
      "23          Notre Dame  0.005299\n",
      "24       Notre Dame OH  0.005249\n"
     ]
    }
   ],
   "source": [
    "create_report(out,0)"
   ]
  },
  {
   "cell_type": "code",
   "execution_count": 35,
   "metadata": {},
   "outputs": [
    {
     "name": "stdout",
     "output_type": "stream",
     "text": [
      "             team_name         w\n",
      "0   Mary Hardin-Baylor  0.060847\n",
      "1              Clemson  0.048803\n",
      "2              Alabama  0.027211\n",
      "3          Mount Union  0.021396\n",
      "4         St John's MN  0.014651\n",
      "5          Morningside  0.013446\n",
      "6          Valdosta St  0.012792\n",
      "7      North Dakota St  0.012502\n",
      "8              Georgia  0.011877\n",
      "9           Ohio State  0.011871\n",
      "10          Notre Dame  0.011583\n",
      "11       UW-Whitewater  0.011481\n",
      "12           Ferris St  0.011187\n",
      "13            Oklahoma  0.010029\n",
      "14       Johns Hopkins  0.009890\n",
      "15           Texas A&M  0.008446\n",
      "16                 LSU  0.007800\n",
      "17             Florida  0.007782\n",
      "18            Kentucky  0.007376\n",
      "19               Texas  0.007278\n",
      "20            Michigan  0.007193\n",
      "21            Syracuse  0.006816\n",
      "22     Central Florida  0.006538\n",
      "23       Washington St  0.006380\n",
      "24          Washington  0.006269\n"
     ]
    }
   ],
   "source": [
    "create_report(out,1)"
   ]
  },
  {
   "cell_type": "code",
   "execution_count": 36,
   "metadata": {},
   "outputs": [
    {
     "name": "stdout",
     "output_type": "stream",
     "text": [
      "             team_name         w\n",
      "0              Clemson  0.097376\n",
      "1              Alabama  0.053666\n",
      "2              Georgia  0.023191\n",
      "3           Ohio State  0.022592\n",
      "4           Notre Dame  0.022337\n",
      "5             Oklahoma  0.019113\n",
      "6            Texas A&M  0.016575\n",
      "7                  LSU  0.015152\n",
      "8              Florida  0.015051\n",
      "9      North Dakota St  0.014736\n",
      "10            Kentucky  0.014335\n",
      "11               Texas  0.013914\n",
      "12            Michigan  0.013782\n",
      "13            Syracuse  0.013223\n",
      "14     Central Florida  0.012441\n",
      "15  Mary Hardin-Baylor  0.011884\n",
      "16          Washington  0.011317\n",
      "17       Washington St  0.011222\n",
      "18          Penn State  0.010118\n",
      "19              Auburn  0.009977\n",
      "20            Missouri  0.009722\n",
      "21                Iowa  0.009648\n",
      "22        Northwestern  0.009192\n",
      "23       West Virginia  0.009174\n",
      "24           Fresno St  0.008901\n"
     ]
    }
   ],
   "source": [
    "create_report(out,2)"
   ]
  },
  {
   "cell_type": "code",
   "execution_count": 37,
   "metadata": {},
   "outputs": [
    {
     "name": "stdout",
     "output_type": "stream",
     "text": [
      "          team_name         w\n",
      "0           Clemson  0.103882\n",
      "1           Alabama  0.057223\n",
      "2           Georgia  0.024716\n",
      "3        Ohio State  0.024055\n",
      "4        Notre Dame  0.023797\n",
      "5          Oklahoma  0.020352\n",
      "6         Texas A&M  0.017669\n",
      "7               LSU  0.016144\n",
      "8           Florida  0.016036\n",
      "9   North Dakota St  0.015302\n",
      "10         Kentucky  0.015276\n",
      "11            Texas  0.014817\n",
      "12         Michigan  0.014679\n",
      "13         Syracuse  0.014091\n",
      "14  Central Florida  0.013244\n",
      "15       Washington  0.012022\n",
      "16    Washington St  0.011908\n",
      "17       Penn State  0.010773\n",
      "18           Auburn  0.010624\n",
      "19         Missouri  0.010359\n",
      "20             Iowa  0.010259\n",
      "21     Northwestern  0.009784\n",
      "22    West Virginia  0.009764\n",
      "23        Fresno St  0.009452\n",
      "24   South Carolina  0.008896\n"
     ]
    }
   ],
   "source": [
    "create_report(out,3)"
   ]
  },
  {
   "cell_type": "code",
   "execution_count": 250,
   "metadata": {},
   "outputs": [
    {
     "data": {
      "image/png": "[encoded data removed]",
      "text/plain": [
       "<Figure size 432x288 with 1 Axes>"
      ]
     },
     "metadata": {},
     "output_type": "display_data"
    }
   ],
   "source": [
    "plt.plot(norm_out)\n",
    "plt.ylabel('l1_norm')\n",
    "plt.xlabel('iteration')\n",
    "plt.title('l1_norm of Wt vs Winf after Each Iteration')\n",
    "plt.show()"
   ]
  },
  {
   "cell_type": "markdown",
   "metadata": {},
   "source": [
    "### 2"
   ]
  },
  {
   "cell_type": "code",
   "execution_count": 434,
   "metadata": {
    "collapsed": true
   },
   "outputs": [],
   "source": [
    "X = np.zeros((3012, 8447))"
   ]
  },
  {
   "cell_type": "code",
   "execution_count": 435,
   "metadata": {
    "collapsed": true
   },
   "outputs": [],
   "source": [
    "i = 0\n",
    "f = open('data/hw4_data/nyt_data.txt')\n",
    "for line in f.readlines():\n",
    "    for w in line.split(','):\n",
    "        cnt = w.split(':')\n",
    "        X[int(cnt[0])-1][i] = int(cnt[1])\n",
    "    i+=1"
   ]
  },
  {
   "cell_type": "code",
   "execution_count": 436,
   "metadata": {
    "collapsed": true
   },
   "outputs": [],
   "source": [
    "j =  0\n",
    "vocabs=[]\n",
    "f = open('data/hw4_data/nyt_vocab.dat')\n",
    "for line in f.readlines():\n",
    "    vocabs.append(line.split('\\n')[0])"
   ]
  },
  {
   "cell_type": "code",
   "execution_count": 437,
   "metadata": {
    "collapsed": true
   },
   "outputs": [],
   "source": [
    "def normalize(v):\n",
    "    return v / np.sum(v)"
   ]
  },
  {
   "cell_type": "code",
   "execution_count": 438,
   "metadata": {
    "collapsed": true
   },
   "outputs": [],
   "source": [
    "W = np.random.rand(3012,25) + 1\n",
    "H = np.random.rand(25, 8447) + 1\n",
    "out_arr = []\n",
    "for i in range(100):\n",
    "    \n",
    "    ##Update H\n",
    "    purp = X / (W.dot(H) + 1e-100)\n",
    "    pink = np.apply_along_axis(normalize, 1, W.T)\n",
    "    H *= pink.dot(purp)\n",
    "    \n",
    "    ##Update W \n",
    "    purp = X / (W.dot(H) + 1e-100)\n",
    "    teal = np.apply_along_axis(normalize, 0, H.T)\n",
    "    W *= purp.dot(teal)\n",
    "    \n",
    "    ##Calc Divergence\n",
    "    out_arr.append(-np.sum(X * np.log(W.dot(H)+ 1e-100) - W.dot(H)))"
   ]
  },
  {
   "cell_type": "code",
   "execution_count": 439,
   "metadata": {},
   "outputs": [
    {
     "data": {
      "image/png": "[encoded data removed]",
      "text/plain": [
       "<Figure size 432x288 with 1 Axes>"
      ]
     },
     "metadata": {},
     "output_type": "display_data"
    }
   ],
   "source": [
    "plt.plot(out_arr)\n",
    "plt.ylabel('Divergence')\n",
    "plt.xlabel('Iteration')\n",
    "plt.title('Divergence vs Iteration')\n",
    "plt.show()"
   ]
  },
  {
   "cell_type": "code",
   "execution_count": 289,
   "metadata": {
    "collapsed": true
   },
   "outputs": [],
   "source": [
    "W_norm = np.apply_along_axis(normalize, 0, W+ 1e-10)"
   ]
  },
  {
   "cell_type": "code",
   "execution_count": 393,
   "metadata": {
    "collapsed": true
   },
   "outputs": [],
   "source": [
    "report = []\n",
    "for column in W_norm.T:\n",
    "    top25= (-column).argsort()[:10]\n",
    "    arr_out = []\n",
    "    for word in top25:\n",
    "        arr_out.append((vocabs[word] +\" \" \"%.4f\" % round(column[word],4)))\n",
    "    report.append(arr_out)"
   ]
  },
  {
   "cell_type": "code",
   "execution_count": 394,
   "metadata": {
    "collapsed": true
   },
   "outputs": [],
   "source": [
    "matrix = [[0 for i in range(5)] for i in range(5)]"
   ]
  },
  {
   "cell_type": "code",
   "execution_count": 395,
   "metadata": {
    "collapsed": true
   },
   "outputs": [],
   "source": [
    "for idx,arr in enumerate(report):\n",
    "    matrix[int(np.floor(idx/5))][idx%5] = arr"
   ]
  },
  {
   "cell_type": "code",
   "execution_count": 424,
   "metadata": {},
   "outputs": [
    {
     "name": "stdout",
     "output_type": "stream",
     "text": [
      "thing 0.0250\n",
      "lot 0.0191\n",
      "really 0.0162\n",
      "feel 0.0146\n",
      "big 0.0135\n",
      "kind 0.0116\n",
      "little 0.0103\n",
      "great 0.0097\n",
      "hard 0.0090\n",
      "put 0.0089\n"
     ]
    }
   ],
   "source": [
    "for i in matrix[4][0]:\n",
    "    print(i)"
   ]
  }
 ],
 "metadata": {
  "kernelspec": {
   "display_name": "Python 3",
   "language": "python",
   "name": "python3"
  },
  "language_info": {
   "codemirror_mode": {
    "name": "ipython",
    "version": 3
   },
   "file_extension": ".py",
   "mimetype": "text/x-python",
   "name": "python",
   "nbconvert_exporter": "python",
   "pygments_lexer": "ipython3",
   "version": "3.6.3"
  }
 },
 "nbformat": 4,
 "nbformat_minor": 2
}
