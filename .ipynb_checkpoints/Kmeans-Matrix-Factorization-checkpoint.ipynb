{
 "cells": [
  {
   "cell_type": "markdown",
   "metadata": {},
   "source": [
    "## Problem 1"
   ]
  },
  {
   "cell_type": "code",
   "execution_count": 1,
   "metadata": {
    "collapsed": true
   },
   "outputs": [],
   "source": [
    "import numpy as np\n",
    "import matplotlib.pyplot as plt\n",
    "import pandas as pd\n",
    "from numpy.linalg import inv\n",
    "%matplotlib inline"
   ]
  },
  {
   "cell_type": "code",
   "execution_count": 2,
   "metadata": {
    "collapsed": true
   },
   "outputs": [],
   "source": [
    "mu1 = [0,0]\n",
    "cov1 = [[1,0],[0,1]]\n",
    "mu2 = [3,0]\n",
    "cov2 = [[1,0],[0,1]]\n",
    "mu3 = [0,3]\n",
    "cov3 = [[1,0],[0,1]]\n",
    "pi = [.2,.5,.3]"
   ]
  },
  {
   "cell_type": "code",
   "execution_count": 3,
   "metadata": {
    "collapsed": true
   },
   "outputs": [],
   "source": [
    "n= []\n",
    "for i in range(500):\n",
    "    g = np.random.choice(np.arange(1,4), p = pi)\n",
    "    if g ==1: \n",
    "        mu,var=mu1,cov1\n",
    "    elif g==2:\n",
    "        mu,var = mu2,cov2\n",
    "    else:\n",
    "        mu,var = mu3,cov3\n",
    "    n.extend(np.random.multivariate_normal(mu, var, 1))                       "
   ]
  },
  {
   "cell_type": "code",
   "execution_count": 4,
   "metadata": {
    "collapsed": true
   },
   "outputs": [],
   "source": [
    "n=np.array([np.array(xi) for xi in n])"
   ]
  },
  {
   "cell_type": "code",
   "execution_count": 5,
   "metadata": {
    "collapsed": true
   },
   "outputs": [],
   "source": [
    "def kmeans(n,k, plotit = False, f= None, idx = None):\n",
    "    init_u = n[np.random.randint(500, size =k),:]\n",
    "    dists = {}\n",
    "    cost_arr = []\n",
    "    c= np.zeros(500)\n",
    "    for i in range(20):\n",
    "        for j in range(k):\n",
    "            dists[j] = np.sqrt(((n - init_u[j])**2).sum(axis=1))\n",
    "        for index,val in np.ndenumerate(c):\n",
    "            c[index] = 0\n",
    "            tmp= dists[0][index]\n",
    "            for j in range(k):\n",
    "                if j ==0: continue\n",
    "                if tmp > dists[j][index]:\n",
    "                    c[index] = j\n",
    "                    tmp= dists[j][index]\n",
    "        for j in range(k):\n",
    "            init_u[j] = n[np.where(c==j)].mean(axis=0)\n",
    "        cost =0\n",
    "        for j in range(k):\n",
    "            cost += dists[j][np.where(c==j)].sum()\n",
    "        cost_arr.append(cost)\n",
    "    if plotit: \n",
    "        plt.plot(cost_arr, label = \"K = \" + str(k))\n",
    "        plt.xlabel(\"Iteration Step\")\n",
    "        plt.legend()\n",
    "    \n",
    "    return c\n",
    "        "
   ]
  },
  {
   "cell_type": "code",
   "execution_count": 6,
   "metadata": {},
   "outputs": [
    {
     "data": {
      "text/plain": [
       "Text(0.5,1,'Cost vs Iteration Step')"
      ]
     },
     "execution_count": 6,
     "metadata": {},
     "output_type": "execute_result"
    },
    {
     "data": {
      "image/png": "[encoded data removed]",
      "text/plain": [
       "<Figure size 360x504 with 1 Axes>"
      ]
     },
     "metadata": {},
     "output_type": "display_data"
    }
   ],
   "source": [
    "f = plt.figure(figsize=(5,7))\n",
    "v = 0 \n",
    "for k in [2,3,4,5]:\n",
    "    kmeans(n,k,plotit=True,f=f, idx =v)\n",
    "    v+= 1\n",
    "plt.xlabel(\"Iteration Step\")\n",
    "plt.ylabel(\"Cost, L2 Norm\")\n",
    "plt.title(\"Cost vs Iteration Step\")"
   ]
  },
  {
   "cell_type": "code",
   "execution_count": 8,
   "metadata": {
    "collapsed": true
   },
   "outputs": [],
   "source": [
    "c3 = kmeans(n,3)\n",
    "c5 = kmeans(n,5)"
   ]
  },
  {
   "cell_type": "code",
   "execution_count": 33,
   "metadata": {
    "scrolled": true
   },
   "outputs": [
    {
     "data": {
      "text/plain": [
       "Text(0.5,1,'K=3 Cluster Assignment')"
      ]
     },
     "execution_count": 33,
     "metadata": {},
     "output_type": "execute_result"
    },
    {
     "data": {
      "image/png": "[encoded data removed]",
      "text/plain": [
       "<Figure size 432x288 with 1 Axes>"
      ]
     },
     "metadata": {},
     "output_type": "display_data"
    }
   ],
   "source": [
    "plt.scatter(n[c3==0,0],n[c3==0,1],label = 'Cluster=0')\n",
    "plt.scatter(n[c3==1,0],n[c3==1,1],label = 'Cluster=1')\n",
    "plt.scatter(n[c3==2,0],n[c3==2,1],label = 'Cluster=2')\n",
    "plt.legend()\n",
    "plt.title('K=3 Cluster Assignment')"
   ]
  },
  {
   "cell_type": "code",
   "execution_count": 36,
   "metadata": {
    "scrolled": true
   },
   "outputs": [
    {
     "data": {
      "text/plain": [
       "Text(0.5,1,'K=5 Cluster Assignment')"
      ]
     },
     "execution_count": 36,
     "metadata": {},
     "output_type": "execute_result"
    },
    {
     "data": {
      "image/png": "[encoded data removed]",
      "text/plain": [
       "<Figure size 432x288 with 1 Axes>"
      ]
     },
     "metadata": {},
     "output_type": "display_data"
    }
   ],
   "source": [
    "plt.scatter(n[c5==0,0],n[c5==0,1],label = 'Cluster=0')\n",
    "plt.scatter(n[c5==1,0],n[c5==1,1],label = 'Cluster=1')\n",
    "plt.scatter(n[c5==2,0],n[c5==2,1],label = 'Cluster=2')\n",
    "plt.scatter(n[c5==3,0],n[c5==3,1],label = 'Cluster=3')\n",
    "plt.scatter(n[c5==4,0],n[c5==4,1],label = 'Cluster=4')\n",
    "plt.legend()\n",
    "plt.title('K=5 Cluster Assignment')"
   ]
  },
  {
   "cell_type": "markdown",
   "metadata": {},
   "source": [
    "## Problem 2"
   ]
  },
  {
   "cell_type": "code",
   "execution_count": 210,
   "metadata": {
    "collapsed": true
   },
   "outputs": [],
   "source": [
    "from scipy.stats import multivariate_normal as mvn"
   ]
  },
  {
   "cell_type": "code",
   "execution_count": 209,
   "metadata": {
    "collapsed": true
   },
   "outputs": [],
   "source": [
    "X_train = pd.read_csv(\"data/hw3-data/Prob2_Xtrain.csv\", header=None)\n",
    "y_train = pd.read_csv(\"data/hw3-data/Prob2_ytrain.csv\", header=None)\n",
    "X_test = pd.read_csv(\"data/hw3-data/Prob2_Xtest.csv\", header=None)\n",
    "y_test = pd.read_csv(\"data/hw3-data/Prob2_ytest.csv\", header=None)"
   ]
  },
  {
   "cell_type": "code",
   "execution_count": 211,
   "metadata": {
    "collapsed": true
   },
   "outputs": [],
   "source": [
    "X_train0 = X_train[y_train[0]==0]\n",
    "X_train1 = X_train[y_train[0]==1]\n",
    "y_train0 = y_train[y_train[0]==0]\n",
    "y_train1 = y_train[y_train[0]==1]"
   ]
  },
  {
   "cell_type": "code",
   "execution_count": 212,
   "metadata": {
    "collapsed": true
   },
   "outputs": [],
   "source": [
    "def em_gmm(X, pis, mus, sigmas, tol=1e-6, max_iter=30):\n",
    "    n, p = X.shape\n",
    "    k = len(pis)\n",
    "\n",
    "    ll_old = 0\n",
    "    lls = [ll_old]\n",
    "\n",
    "    def scale(vec):\n",
    "        return vec / np.sum(vec)\n",
    "\n",
    "    for i in range(max_iter):\n",
    "        ws = np.zeros((n, k))\n",
    "        for j in range(k):\n",
    "            ws[:, j] = pis[j] * mvn(mus[j], sigmas[j]).pdf(X) \n",
    "        ws = np.apply_along_axis(scale, 1, ws)\n",
    "\n",
    "\n",
    "        nks = np.sum(ws, axis=0)\n",
    "        pis = nks/n\n",
    "        mus = np.transpose(np.dot(np.transpose(X), ws) / nks)\n",
    "\n",
    "        for j in range(k):\n",
    "            phis = ws[:,j]\n",
    "            nk = nks[j]\n",
    "            sigma = np.dot(((X - mus[j]).T * phis),(X - mus[j]))/ nk\n",
    "            sigmas[j] = sigma\n",
    "            #np.dot((X - mu[j]), np.transpose((X-mu[j])))\n",
    "        \n",
    "        ll_new = 0\n",
    "        for pi, mu, sigma in zip(pis, mus, sigmas):\n",
    "            ll_new += pi*mvn(mu, sigma).pdf(X)\n",
    "        ll_new = np.log(ll_new).sum()\n",
    "        ll_old = ll_new\n",
    "        lls.append(ll_old)\n",
    "        \n",
    "        \n",
    "    return (pis, mus, sigmas, lls)"
   ]
  },
  {
   "cell_type": "code",
   "execution_count": 213,
   "metadata": {},
   "outputs": [
    {
     "data": {
      "image/png": "[encoded data removed]",
      "text/plain": [
       "<Figure size 432x288 with 1 Axes>"
      ]
     },
     "metadata": {},
     "output_type": "display_data"
    }
   ],
   "source": [
    "k = 3\n",
    "X = X_train1\n",
    "y = y_train1\n",
    "out1 = []\n",
    "\n",
    "for i in range(10):  \n",
    "    mu = np.mean(X)\n",
    "    sigma = np.cov(X, rowvar =False)\n",
    "    mus = mvn.rvs(mu, sigma, size=k)\n",
    "    sigmas = []\n",
    "    for j in range(k):\n",
    "        sigmas.append(sigma.copy())\n",
    "    pis = np.repeat(1/k, k)\n",
    "    res = em_gmm(X, pis, mus, sigmas)\n",
    "    out1.append(res)\n",
    "    plt.plot(range(5,31), res[3][5:], label=str(i+1))\n",
    "_ = plt.legend()"
   ]
  },
  {
   "cell_type": "code",
   "execution_count": 215,
   "metadata": {},
   "outputs": [
    {
     "data": {
      "image/png": "[encoded data removed]",
      "text/plain": [
       "<Figure size 432x288 with 1 Axes>"
      ]
     },
     "metadata": {},
     "output_type": "display_data"
    }
   ],
   "source": [
    "k = 3\n",
    "X = X_train0\n",
    "y = y_train0\n",
    "out0 = []\n",
    "\n",
    "for i in range(10):  \n",
    "    mu = np.mean(X)\n",
    "    sigma = np.cov(X, rowvar =False)\n",
    "    mus = mvn.rvs(mu, sigma, size=k)\n",
    "    sigmas = []\n",
    "    for j in range(k):\n",
    "        sigmas.append(sigma.copy())\n",
    "    pis = np.repeat(1/k, k)\n",
    "    res = em_gmm(X, pis, mus, sigmas)\n",
    "    out0.append(res)\n",
    "    plt.plot(range(5,31), res[3][5:], label=str(i+1))\n",
    "_ = plt.legend()"
   ]
  },
  {
   "cell_type": "code",
   "execution_count": 216,
   "metadata": {
    "collapsed": true
   },
   "outputs": [],
   "source": [
    "def predict(x, p, best0, best1, k):\n",
    "    pis0 = best0[0]\n",
    "    mus0 = best0[1]\n",
    "    sigmas0 = best0[2]\n",
    "    pis1 = best1[0]\n",
    "    mus1 = best1[1]\n",
    "    sigmas1 = best1[2]\n",
    "\n",
    "    prob0 = 0\n",
    "    prob1 = 0\n",
    "    for i in range(k):\n",
    "        prob0 += pis0[i] * mvn(mus0[i], sigmas0[i]).pdf(x)\n",
    "        prob1 += pis1[i] * mvn(mus1[i], sigmas1[i]).pdf(x)\n",
    "    prob0 *= p\n",
    "    prob1 *= (1 - p)\n",
    "    if prob0 > prob1:\n",
    "        return 0\n",
    "    else:\n",
    "        return 1"
   ]
  },
  {
   "cell_type": "code",
   "execution_count": 217,
   "metadata": {},
   "outputs": [
    {
     "name": "stdout",
     "output_type": "stream",
     "text": [
      "[192, 7] \n",
      " [86, 175]\n",
      "accuracy is:  0.7978260869565217\n"
     ]
    }
   ],
   "source": [
    "best1 = out1[0]\n",
    "best0 = out0[0]\n",
    "p = y_train1.shape[0] / y_train.shape[0]\n",
    "x = X_test.iloc[-4]\n",
    "#predict(x, p, best0, best1, k)\n",
    "preds = X_test.apply(lambda x: predict(x, p, best0, best1, k), axis=1)\n",
    "\n",
    "matrix = [[0,0],[0,0]]\n",
    "for i in range(len(preds)):\n",
    "    pred = preds[i]\n",
    "    actual = y_test[0].values[i]\n",
    "    matrix[pred][actual] += 1\n",
    "\n",
    "print(matrix[0], '\\n', matrix[1])\n",
    "print(\"accuracy is: \", (matrix[0][0] + matrix[1][1]) / 460)"
   ]
  },
  {
   "cell_type": "code",
   "execution_count": 218,
   "metadata": {
    "collapsed": true
   },
   "outputs": [],
   "source": [
    "def build_predictor(k):\n",
    "    X = X_train1\n",
    "    y = y_train1 \n",
    "\n",
    "    mu = np.mean(X)\n",
    "    sigma = np.cov(X, rowvar =False)\n",
    "    mus = mvn.rvs(mu, sigma, size=k)\n",
    "    sigmas = []\n",
    "    for j in range(k):\n",
    "        sigmas.append(sigma.copy())\n",
    "    pis = np.repeat(1/k, k)\n",
    "    best1 = em_gmm(X, pis, mus, sigmas)\n",
    "\n",
    "    X = X_train0\n",
    "    y = y_train0\n",
    "\n",
    "    mu = np.mean(X)\n",
    "    sigma = np.cov(X, rowvar =False)\n",
    "    mus = mvn.rvs(mu, sigma, size=k)\n",
    "    sigmas = []\n",
    "    for j in range(k):\n",
    "        sigmas.append(sigma.copy())\n",
    "    pis = np.repeat(1/k, k)\n",
    "    best0 = em_gmm(X, pis, mus, sigmas)\n",
    "    \n",
    "    def predict(x):\n",
    "        p = 0.3939613526570048\n",
    "        pis0 = best0[0]\n",
    "        mus0 = best0[1]\n",
    "        sigmas0 = best0[2]\n",
    "        pis1 = best1[0]\n",
    "        mus1 = best1[1]\n",
    "        sigmas1 = best1[2]\n",
    "\n",
    "        prob0 = 0\n",
    "        prob1 = 0\n",
    "        for i in range(k):\n",
    "            prob0 += pis0[i] * mvn(mus0[i], sigmas0[i]).pdf(x)\n",
    "            prob1 += pis1[i] * mvn(mus1[i], sigmas1[i]).pdf(x)\n",
    "        prob0 *= p\n",
    "        prob1 *= (1 - p)\n",
    "        if prob0 > prob1:\n",
    "            return 0\n",
    "        else:\n",
    "            return 1\n",
    "    return predict"
   ]
  },
  {
   "cell_type": "code",
   "execution_count": 219,
   "metadata": {
    "collapsed": true
   },
   "outputs": [],
   "source": [
    "#TODO: for gmm_1 you just use the regular normal dist/functions instead of mvn\n",
    "gmm_2 = build_predictor(2)\n",
    "gmm_3 = build_predictor(3)\n",
    "gmm_4 = build_predictor(4)"
   ]
  },
  {
   "cell_type": "code",
   "execution_count": 220,
   "metadata": {},
   "outputs": [
    {
     "name": "stdout",
     "output_type": "stream",
     "text": [
      "[197, 15] \n",
      " [81, 167]\n",
      "accuracy is:  0.7913043478260869\n"
     ]
    }
   ],
   "source": [
    "preds = X_test.apply(gmm_2, axis=1)\n",
    "\n",
    "matrix = [[0,0],[0,0]]\n",
    "for i in range(len(preds)):\n",
    "    pred = preds[i]\n",
    "    actual = y_test[0].values[i]\n",
    "    matrix[pred][actual] += 1\n",
    "\n",
    "print(matrix[0], '\\n', matrix[1])\n",
    "print(\"accuracy is: \", (matrix[0][0] + matrix[1][1]) / 460)"
   ]
  },
  {
   "cell_type": "code",
   "execution_count": 221,
   "metadata": {
    "scrolled": true
   },
   "outputs": [
    {
     "name": "stdout",
     "output_type": "stream",
     "text": [
      "[200, 9] \n",
      " [78, 173]\n",
      "accuracy is:  0.8108695652173913\n"
     ]
    }
   ],
   "source": [
    "preds = X_test.apply(gmm_3, axis=1)\n",
    "\n",
    "matrix = [[0,0],[0,0]]\n",
    "for i in range(len(preds)):\n",
    "    pred = preds[i]\n",
    "    actual = y_test[0].values[i]\n",
    "    matrix[pred][actual] += 1\n",
    "\n",
    "print(matrix[0], '\\n', matrix[1])\n",
    "print(\"accuracy is: \", (matrix[0][0] + matrix[1][1]) / 460)"
   ]
  },
  {
   "cell_type": "code",
   "execution_count": 222,
   "metadata": {},
   "outputs": [
    {
     "name": "stdout",
     "output_type": "stream",
     "text": [
      "[235, 17] \n",
      " [43, 165]\n",
      "accuracy is:  0.8695652173913043\n"
     ]
    }
   ],
   "source": [
    "preds = X_test.apply(gmm_4, axis=1)\n",
    "\n",
    "matrix = [[0,0],[0,0]]\n",
    "for i in range(len(preds)):\n",
    "    pred = preds[i]\n",
    "    actual = y_test[0].values[i]\n",
    "    matrix[pred][actual] += 1\n",
    "\n",
    "print(matrix[0], '\\n', matrix[1])\n",
    "print(\"accuracy is: \", (matrix[0][0] + matrix[1][1]) / 460)"
   ]
  },
  {
   "cell_type": "markdown",
   "metadata": {},
   "source": [
    "## Problem 3"
   ]
  },
  {
   "cell_type": "code",
   "execution_count": 37,
   "metadata": {
    "collapsed": true
   },
   "outputs": [],
   "source": [
    "df = pd.read_csv('data/hw3-data/Prob3_ratings.csv', header= None)"
   ]
  },
  {
   "cell_type": "code",
   "execution_count": 38,
   "metadata": {
    "collapsed": true
   },
   "outputs": [],
   "source": [
    "df_test = pd.read_csv('data/hw3-data/Prob3_ratings_test.csv', header= None)"
   ]
  },
  {
   "cell_type": "code",
   "execution_count": 39,
   "metadata": {
    "collapsed": true
   },
   "outputs": [],
   "source": [
    "df.columns = ['uid','movie_id','rating']"
   ]
  },
  {
   "cell_type": "code",
   "execution_count": 40,
   "metadata": {
    "collapsed": true
   },
   "outputs": [],
   "source": [
    "df_test.columns = ['uid','movie_id','rating']"
   ]
  },
  {
   "cell_type": "code",
   "execution_count": 41,
   "metadata": {
    "collapsed": true
   },
   "outputs": [],
   "source": [
    "M= np.zeros((df['uid'].max(),df['movie_id'].max()))\n",
    "M_test = np.zeros((df['uid'].max(),df['movie_id'].max()))"
   ]
  },
  {
   "cell_type": "code",
   "execution_count": 42,
   "metadata": {
    "collapsed": true
   },
   "outputs": [],
   "source": [
    "for row in df.iterrows():\n",
    "    M[int(row[1]['uid']-1), int(row[1]['movie_id']-1)] = row[1]['rating']"
   ]
  },
  {
   "cell_type": "code",
   "execution_count": 43,
   "metadata": {
    "collapsed": true
   },
   "outputs": [],
   "source": [
    "for row in df_test.iterrows():\n",
    "    M_test[int(row[1]['uid']-1), int(row[1]['movie_id']-1)] = row[1]['rating']"
   ]
  },
  {
   "cell_type": "markdown",
   "metadata": {},
   "source": [
    "ui = index set of objects rated by user i\n",
    "vj = index set of users who rated object j"
   ]
  },
  {
   "cell_type": "code",
   "execution_count": 46,
   "metadata": {
    "collapsed": true
   },
   "outputs": [],
   "source": [
    "test_idx = np.where(M_test!=0)\n",
    "train_idx = np.where(M!=0)\n",
    "n_test = len(M[test_idx])\n",
    "n_train = len(M[train_idx])"
   ]
  },
  {
   "cell_type": "code",
   "execution_count": 123,
   "metadata": {
    "code_folding": []
   },
   "outputs": [],
   "source": [
    "rmse_test_out= []\n",
    "rmse_train_out = []\n",
    "obj_out = [] \n",
    "U_out = []\n",
    "V_out = []\n",
    "\n",
    "for runs in range(10):\n",
    "    obj_arr = [] \n",
    "    rmse_test_arr = []\n",
    "    rmse_train_arr = []\n",
    "    U= np.random.multivariate_normal(np.zeros(10),np.identity(10),df['uid'].max())\n",
    "    V= np.random.multivariate_normal(np.zeros(10),np.identity(10),df['movie_id'].max())\n",
    "    for iteration in range(100):\n",
    "        for ui in range(M.shape[0]):\n",
    "            idx = np.where(M[ui] != 0)\n",
    "            out= np.zeros((10,10))\n",
    "            outm = np.zeros((10,1))\n",
    "            for i in idx[0]:\n",
    "                ro = V[i].reshape(10,1)\n",
    "                out += ro.dot(ro.T)\n",
    "                outm += M[ui][i]*ro\n",
    "            U[ui] = inv(np.identity(10)*.25 + out).dot(outm).flatten()\n",
    "            l2 = ro.dot(ro.T)\n",
    "        for vj in range(M.shape[1]):\n",
    "            idx = np.where(M[:,vj] != 0)\n",
    "            out= np.zeros((10,10))\n",
    "            outm = np.zeros((10,1))\n",
    "            for i in idx[0]:\n",
    "                ro = U[i].reshape(10,1)\n",
    "                out += ro.dot(ro.T)\n",
    "                outm += M[:,vj][i]*ro\n",
    "            V[vj] = inv(np.identity(10)*.25 + out).dot(outm).flatten()\n",
    "        \n",
    "        L1 = 0\n",
    "        L2 = 0\n",
    "        L3 = 0\n",
    "        for i,j in zip(train_idx[0],train_idx[1]):\n",
    "            L1 += (M[i,j] - U[i].dot(V[j]))**2\n",
    "        for i in range(M.shape[0]):\n",
    "            L2 += U[i].dot(U[i])\n",
    "        for j in range(M.shape[1]):\n",
    "            L3 += V[j].dot(V[j])\n",
    "        \n",
    "        obj = -2*L1 -1/2*L2 - 1/2*L3 \n",
    "        \n",
    "        preds = U.dot(V.T)\n",
    "        rmse_test = np.sqrt(((M_test[test_idx]- preds[test_idx])**2).sum()/n_test)\n",
    "        rmse_train = np.sqrt(((M[train_idx]- preds[train_idx])**2).sum()/n_train)\n",
    "        rmse_test_arr.append(rmse_test)\n",
    "        rmse_train_arr.append(rmse_train)\n",
    "        \n",
    "        if iteration>0:\n",
    "            obj_arr.append(obj)\n",
    "    U_out.append(U)\n",
    "    V_out.append(V)\n",
    "    rmse_test_out.append(rmse_test_arr)\n",
    "    rmse_train_out.append(rmse_train_arr)\n",
    "    obj_out.append(obj_arr)\n",
    "        "
   ]
  },
  {
   "cell_type": "code",
   "execution_count": 126,
   "metadata": {},
   "outputs": [
    {
     "ename": "TypeError",
     "evalue": "list indices must be integers or slices, not list",
     "output_type": "error",
     "traceback": [
      "\u001b[1;31m---------------------------------------------------------------------------\u001b[0m",
      "\u001b[1;31mTypeError\u001b[0m                                 Traceback (most recent call last)",
      "\u001b[1;32m<ipython-input-126-c57139edc26f>\u001b[0m in \u001b[0;36m<module>\u001b[1;34m()\u001b[0m\n\u001b[1;32m----> 1\u001b[1;33m \u001b[0mobj_out\u001b[0m\u001b[1;33m[\u001b[0m\u001b[0mi\u001b[0m\u001b[1;33m]\u001b[0m\u001b[1;33m\u001b[0m\u001b[0m\n\u001b[0m",
      "\u001b[1;31mTypeError\u001b[0m: list indices must be integers or slices, not list"
     ]
    }
   ],
   "source": [
    "obj_out[i]"
   ]
  },
  {
   "cell_type": "code",
   "execution_count": 129,
   "metadata": {},
   "outputs": [
    {
     "name": "stdout",
     "output_type": "stream",
     "text": [
      "0\n",
      "1\n",
      "2\n",
      "3\n",
      "4\n",
      "5\n",
      "6\n",
      "7\n",
      "8\n",
      "9\n"
     ]
    }
   ],
   "source": [
    "for idx, val in enumerate(obj_out):\n",
    "    print(idx)"
   ]
  },
  {
   "cell_type": "code",
   "execution_count": null,
   "metadata": {
    "collapsed": true
   },
   "outputs": [],
   "source": []
  },
  {
   "cell_type": "code",
   "execution_count": 138,
   "metadata": {},
   "outputs": [
    {
     "data": {
      "text/plain": [
       "'Run: 2'"
      ]
     },
     "execution_count": 138,
     "metadata": {},
     "output_type": "execute_result"
    }
   ],
   "source": [
    "\"Run: \"+ str(1+1)"
   ]
  },
  {
   "cell_type": "code",
   "execution_count": 140,
   "metadata": {},
   "outputs": [
    {
     "ename": "AttributeError",
     "evalue": "module 'matplotlib.pyplot' has no attribute 'xaxis'",
     "output_type": "error",
     "traceback": [
      "\u001b[1;31m---------------------------------------------------------------------------\u001b[0m",
      "\u001b[1;31mAttributeError\u001b[0m                            Traceback (most recent call last)",
      "\u001b[1;32m<ipython-input-140-99414274c4a4>\u001b[0m in \u001b[0;36m<module>\u001b[1;34m()\u001b[0m\n\u001b[0;32m      2\u001b[0m     \u001b[0mplt\u001b[0m\u001b[1;33m.\u001b[0m\u001b[0mplot\u001b[0m\u001b[1;33m(\u001b[0m\u001b[0mrange\u001b[0m\u001b[1;33m(\u001b[0m\u001b[1;36m1\u001b[0m\u001b[1;33m,\u001b[0m\u001b[1;36m100\u001b[0m\u001b[1;33m)\u001b[0m\u001b[1;33m,\u001b[0m \u001b[0mobj_out\u001b[0m\u001b[1;33m[\u001b[0m\u001b[0midx\u001b[0m\u001b[1;33m]\u001b[0m\u001b[1;33m,\u001b[0m \u001b[0mlabel\u001b[0m\u001b[1;33m=\u001b[0m \u001b[1;34m\"Run: \"\u001b[0m\u001b[1;33m+\u001b[0m \u001b[0mstr\u001b[0m\u001b[1;33m(\u001b[0m\u001b[0midx\u001b[0m\u001b[1;33m+\u001b[0m\u001b[1;36m1\u001b[0m\u001b[1;33m)\u001b[0m\u001b[1;33m)\u001b[0m\u001b[1;33m\u001b[0m\u001b[0m\n\u001b[0;32m      3\u001b[0m \u001b[0mplt\u001b[0m\u001b[1;33m.\u001b[0m\u001b[0mtitle\u001b[0m\u001b[1;33m(\u001b[0m\u001b[1;34m\"Log Joint Likelihood for 10 trials across Iterations 2-100\"\u001b[0m\u001b[1;33m)\u001b[0m\u001b[1;33m\u001b[0m\u001b[0m\n\u001b[1;32m----> 4\u001b[1;33m \u001b[0mplt\u001b[0m\u001b[1;33m.\u001b[0m\u001b[0mxaxis\u001b[0m\u001b[1;33m(\u001b[0m\u001b[1;34m\"Iteration Step -1\"\u001b[0m\u001b[1;33m)\u001b[0m\u001b[1;33m\u001b[0m\u001b[0m\n\u001b[0m\u001b[0;32m      5\u001b[0m \u001b[0mplt\u001b[0m\u001b[1;33m.\u001b[0m\u001b[0myaxis\u001b[0m\u001b[1;33m(\u001b[0m\u001b[1;34m\"Log Joint Likelihood\"\u001b[0m\u001b[1;33m)\u001b[0m\u001b[1;33m\u001b[0m\u001b[0m\n",
      "\u001b[1;31mAttributeError\u001b[0m: module 'matplotlib.pyplot' has no attribute 'xaxis'"
     ]
    },
    {
     "data": {
      "image/png": "[encoded data removed]",
      "text/plain": [
       "<Figure size 432x288 with 1 Axes>"
      ]
     },
     "metadata": {},
     "output_type": "display_data"
    }
   ],
   "source": [
    "for idx, val in enumerate(obj_out):\n",
    "    plt.plot(range(1,100), obj_out[idx], label= \"Run: \"+ str(idx+1))\n",
    "plt.title(\"Log Joint Likelihood for 10 trials across Iterations 2-100\")\n",
    "plt.xaxis(\"Iteration Step -1\")\n",
    "plt.yaxis(\"Log Joint Likelihood\")"
   ]
  },
  {
   "cell_type": "code",
   "execution_count": null,
   "metadata": {
    "collapsed": true
   },
   "outputs": [],
   "source": [
    "test_rmse_fin =[]\n",
    "obj_fn_fin = []\n",
    "for t,o in zip(rmse_test_out, obj_out):\n",
    "    test_rmse_find.append(t[99])\n",
    "    obj_fn_fin.append(o[99])"
   ]
  },
  {
   "cell_type": "code",
   "execution_count": null,
   "metadata": {
    "collapsed": true
   },
   "outputs": [],
   "source": [
    "df_movie_names = pd.read_csv('data/hw3-data/Prob3_movies.txt', header= None)"
   ]
  },
  {
   "cell_type": "markdown",
   "metadata": {},
   "source": [
    "star wars= 49\n",
    "my fair lady = 484\n",
    "goodfelellas = 181"
   ]
  },
  {
   "cell_type": "code",
   "execution_count": 122,
   "metadata": {},
   "outputs": [
    {
     "data": {
      "text/plain": [
       "[[-129864.55469168823,\n",
       "  -115421.8300432109,\n",
       "  -109015.069212413,\n",
       "  -105302.68715343732,\n",
       "  -102836.75144545687,\n",
       "  -101074.87860599,\n",
       "  -99766.480952083119,\n",
       "  -98752.084395789483,\n",
       "  -97935.655692581946,\n",
       "  -97257.843203843717,\n",
       "  -96681.326495762289,\n",
       "  -96182.694283852907,\n",
       "  -95746.027630282348,\n",
       "  -95359.529260154552,\n",
       "  -95016.189960126838,\n",
       "  -94712.393398043612,\n",
       "  -94443.843669882743,\n",
       "  -94205.434022015324,\n",
       "  -93992.06681125972,\n",
       "  -93799.130891067587,\n",
       "  -93622.770210119081,\n",
       "  -93460.370464013758,\n",
       "  -93310.771856461055,\n",
       "  -93173.482731488722,\n",
       "  -93047.384605895466,\n",
       "  -92930.859149786746,\n",
       "  -92822.452017295087,\n",
       "  -92720.977970254535,\n",
       "  -92625.61992592139,\n",
       "  -92536.024473088051,\n",
       "  -92452.055648034569,\n",
       "  -92373.42111801295,\n",
       "  -92299.683565732805,\n",
       "  -92230.408608432714,\n",
       "  -92165.234523881023,\n",
       "  -92103.895786088528,\n",
       "  -92046.190805339851,\n",
       "  -91991.914434304766,\n",
       "  -91940.817977180457,\n",
       "  -91892.598304401399,\n",
       "  -91846.933626719125,\n",
       "  -91803.568474490647,\n",
       "  -91762.34831710803,\n",
       "  -91723.156665335031,\n",
       "  -91685.854833544989,\n",
       "  -91650.285367849632,\n",
       "  -91616.300117509119,\n",
       "  -91583.777340218745,\n",
       "  -91552.624932404768,\n",
       "  -91522.776156989377,\n",
       "  -91494.182109256129,\n",
       "  -91466.802999333246,\n",
       "  -91440.600042632926,\n",
       "  -91415.530356247327,\n",
       "  -91391.547414407905,\n",
       "  -91368.608535263775,\n",
       "  -91346.68734323536,\n",
       "  -91325.782701769625,\n",
       "  -91305.913169668507,\n",
       "  -91287.097691677758,\n",
       "  -91269.338301996569,\n",
       "  -91252.615716776185,\n",
       "  -91236.892510334059,\n",
       "  -91222.11632165873,\n",
       "  -91208.223127541976,\n",
       "  -91195.142251753874,\n",
       "  -91182.801935570373,\n",
       "  -91171.133573263971,\n",
       "  -91160.073808916481,\n",
       "  -91149.564942450612,\n",
       "  -91139.555108753455,\n",
       "  -91129.999579319556,\n",
       "  -91120.863185078721,\n",
       "  -91112.122435432466,\n",
       "  -91103.765021330619,\n",
       "  -91095.784956526069,\n",
       "  -91088.174877151003,\n",
       "  -91080.92023045657,\n",
       "  -91073.99848066816,\n",
       "  -91067.382083871737,\n",
       "  -91061.04227787703,\n",
       "  -91054.951948569564,\n",
       "  -91049.08728480908,\n",
       "  -91043.428504590396,\n",
       "  -91037.959939804321,\n",
       "  -91032.669648905139,\n",
       "  -91027.548676982289,\n",
       "  -91022.590120169596,\n",
       "  -91017.788228580743,\n",
       "  -91013.137845516219,\n",
       "  -91008.634480578752,\n",
       "  -91004.275150884496,\n",
       "  -91000.05962198686,\n",
       "  -90995.990909305023,\n",
       "  -90992.073802229628,\n",
       "  -90988.311798214912,\n",
       "  -90984.704692865591,\n",
       "  -90981.248364601706,\n",
       "  -90977.936076058511],\n",
       " [-130459.36242753704,\n",
       "  -115805.52348804733,\n",
       "  -109290.50229915051,\n",
       "  -105451.09809522162,\n",
       "  -102928.71095087171,\n",
       "  -101149.30395819996,\n",
       "  -99817.174103978177,\n",
       "  -98772.110454077294,\n",
       "  -97933.128481749052,\n",
       "  -97251.567182234168,\n",
       "  -96688.441738373425,\n",
       "  -96213.297372629764,\n",
       "  -95804.121898530037,\n",
       "  -95447.007148142089,\n",
       "  -95132.768773976335,\n",
       "  -94853.705467903987,\n",
       "  -94603.811072131721,\n",
       "  -94379.194313097716,\n",
       "  -94177.321100768851,\n",
       "  -93995.504482789533,\n",
       "  -93830.482647789919,\n",
       "  -93679.573323521487,\n",
       "  -93541.062843877036,\n",
       "  -93413.330993951575,\n",
       "  -93295.198712588579,\n",
       "  -93185.740963483317,\n",
       "  -93084.222934965277,\n",
       "  -92989.986851974463,\n",
       "  -92902.351182129831,\n",
       "  -92820.575127611606,\n",
       "  -92743.815504648868,\n",
       "  -92671.420798154621,\n",
       "  -92604.175971396893,\n",
       "  -92542.145113361214,\n",
       "  -92484.460106336352,\n",
       "  -92430.352692268032,\n",
       "  -92379.165016944346,\n",
       "  -92330.326133882147,\n",
       "  -92283.579868975692,\n",
       "  -92239.054663828094,\n",
       "  -92197.093369065245,\n",
       "  -92157.681231976778,\n",
       "  -92120.641056592955,\n",
       "  -92085.778784574795,\n",
       "  -92052.86776931271,\n",
       "  -92021.647443229143,\n",
       "  -91991.831316729877,\n",
       "  -91963.113245274479,\n",
       "  -91935.203604565497,\n",
       "  -91907.986160950415,\n",
       "  -91881.596501239168,\n",
       "  -91856.12002499451,\n",
       "  -91831.480032852589,\n",
       "  -91807.558800670275,\n",
       "  -91784.284637661418,\n",
       "  -91761.63734779392,\n",
       "  -91739.622637929133,\n",
       "  -91718.252418097487,\n",
       "  -91697.530035998207,\n",
       "  -91677.431223870692,\n",
       "  -91657.898420638274,\n",
       "  -91638.869603231928,\n",
       "  -91620.329827779948,\n",
       "  -91602.344302688187,\n",
       "  -91585.031083304828,\n",
       "  -91568.487218723443,\n",
       "  -91552.740065854348,\n",
       "  -91537.756692979921,\n",
       "  -91523.476429335235,\n",
       "  -91509.832806931052,\n",
       "  -91496.761382353667,\n",
       "  -91484.201030355223,\n",
       "  -91472.093023082314,\n",
       "  -91460.378277986529,\n",
       "  -91448.992947492603,\n",
       "  -91437.866737991149,\n",
       "  -91426.93816504821,\n",
       "  -91416.198205446257,\n",
       "  -91405.711166520152,\n",
       "  -91395.556070114137,\n",
       "  -91385.774508588904,\n",
       "  -91376.37008469025,\n",
       "  -91367.323205731751,\n",
       "  -91358.604921010352,\n",
       "  -91350.185517377962,\n",
       "  -91342.038172782311,\n",
       "  -91334.139879816867,\n",
       "  -91326.471328511863,\n",
       "  -91319.016601839219,\n",
       "  -91311.763052861861,\n",
       "  -91304.701414697643,\n",
       "  -91297.825862130223,\n",
       "  -91291.133506793398,\n",
       "  -91284.622978997533,\n",
       "  -91278.292387336478,\n",
       "  -91272.13752303677,\n",
       "  -91266.15108260847,\n",
       "  -91260.323034297937,\n",
       "  -91254.641689150318],\n",
       " [-127478.26257579162,\n",
       "  -114313.7604030645,\n",
       "  -108559.9862888856,\n",
       "  -105190.7560492429,\n",
       "  -102884.1790747943,\n",
       "  -101172.67761700531,\n",
       "  -99844.080682900705,\n",
       "  -98770.742693809254,\n",
       "  -97882.784323934422,\n",
       "  -97140.892892818563,\n",
       "  -96515.20824278667,\n",
       "  -95980.473090626052,\n",
       "  -95517.373481096365,\n",
       "  -95111.633113907301,\n",
       "  -94753.584570523002,\n",
       "  -94436.401939183037,\n",
       "  -94154.129058005754,\n",
       "  -93901.816761341222,\n",
       "  -93676.820611946634,\n",
       "  -93476.226547424943,\n",
       "  -93297.217413605409,\n",
       "  -93137.407280962274,\n",
       "  -92993.667280808528,\n",
       "  -92863.340968090808,\n",
       "  -92744.324726052757,\n",
       "  -92634.913810364757,\n",
       "  -92533.652564990029,\n",
       "  -92439.29322260998,\n",
       "  -92350.884795812119,\n",
       "  -92267.80544449127,\n",
       "  -92189.574307886054,\n",
       "  -92115.695798477143,\n",
       "  -92045.697789021739,\n",
       "  -91979.275005744566,\n",
       "  -91916.371802710797,\n",
       "  -91857.029435830889,\n",
       "  -91801.20845441478,\n",
       "  -91748.785951506114,\n",
       "  -91699.61166754266,\n",
       "  -91653.537902806245,\n",
       "  -91610.417689433292,\n",
       "  -91570.09127252514,\n",
       "  -91532.376453390432,\n",
       "  -91497.067387995456,\n",
       "  -91463.939433203035,\n",
       "  -91432.755639775598,\n",
       "  -91403.272906758837,\n",
       "  -91375.253630381005,\n",
       "  -91348.494836803598,\n",
       "  -91322.849934555925,\n",
       "  -91298.200412352686,\n",
       "  -91274.453999176549,\n",
       "  -91251.564767518139,\n",
       "  -91229.495537935756,\n",
       "  -91208.187370262618,\n",
       "  -91187.569043102747,\n",
       "  -91167.5727195863,\n",
       "  -91148.139363303751,\n",
       "  -91129.215370780716,\n",
       "  -91110.749173312957,\n",
       "  -91092.701960936291,\n",
       "  -91075.080790411535,\n",
       "  -91057.964750516461,\n",
       "  -91041.464954197625,\n",
       "  -91025.656440477876,\n",
       "  -91010.568100960416,\n",
       "  -90996.206313315488,\n",
       "  -90982.566901784885,\n",
       "  -90969.6310378622,\n",
       "  -90957.35541639007,\n",
       "  -90945.663182300559,\n",
       "  -90934.435581418162,\n",
       "  -90923.509292122777,\n",
       "  -90912.714700765573,\n",
       "  -90902.005100668393,\n",
       "  -90891.55832574323,\n",
       "  -90881.618929859193,\n",
       "  -90872.296413193806,\n",
       "  -90863.577672480591,\n",
       "  -90855.407393279776,\n",
       "  -90847.725827550908,\n",
       "  -90840.476946854993,\n",
       "  -90833.608413144364,\n",
       "  -90827.071099925015,\n",
       "  -90820.820110776607,\n",
       "  -90814.817296162946,\n",
       "  -90809.033330066115,\n",
       "  -90803.446179803388,\n",
       "  -90798.035816941629,\n",
       "  -90792.779439679754,\n",
       "  -90787.649888674991,\n",
       "  -90782.615712937768,\n",
       "  -90777.640761443006,\n",
       "  -90772.682672634517,\n",
       "  -90767.691396732218,\n",
       "  -90762.611931197578,\n",
       "  -90757.39948967447,\n",
       "  -90752.051947952685,\n",
       "  -90746.638217755157],\n",
       " [-127373.96953397607,\n",
       "  -113347.36923521404,\n",
       "  -107451.74347108006,\n",
       "  -104199.90921249404,\n",
       "  -102086.00443806677,\n",
       "  -100552.06364104085,\n",
       "  -99366.514300427545,\n",
       "  -98414.767491774794,\n",
       "  -97633.482260004675,\n",
       "  -96981.56349208983,\n",
       "  -96429.315778828546,\n",
       "  -95954.87999724051,\n",
       "  -95543.184581734837,\n",
       "  -95183.67650156343,\n",
       "  -94867.386928869018,\n",
       "  -94586.607028602361,\n",
       "  -94335.526563932959,\n",
       "  -94110.050358796943,\n",
       "  -93906.466140071105,\n",
       "  -93721.060839086669,\n",
       "  -93550.475731097744,\n",
       "  -93392.014466573484,\n",
       "  -93244.621355359224,\n",
       "  -93108.233764716264,\n",
       "  -92982.026623297759,\n",
       "  -92865.179995296494,\n",
       "  -92757.473835011566,\n",
       "  -92658.213047098761,\n",
       "  -92566.086882141826,\n",
       "  -92479.617410478037,\n",
       "  -92397.76378555577,\n",
       "  -92321.555539105364,\n",
       "  -92251.288207940699,\n",
       "  -92185.800453513672,\n",
       "  -92123.831329710185,\n",
       "  -92065.039622703029,\n",
       "  -92009.732180330451,\n",
       "  -91959.19921561837,\n",
       "  -91913.705824148405,\n",
       "  -91872.440710905226,\n",
       "  -91834.708329065834,\n",
       "  -91799.951542783296,\n",
       "  -91767.715582822493,\n",
       "  -91737.678930153677,\n",
       "  -91709.662522398372,\n",
       "  -91683.55725507818,\n",
       "  -91659.256817894275,\n",
       "  -91636.648843047209,\n",
       "  -91615.62128131323,\n",
       "  -91596.062519735307,\n",
       "  -91577.859749676471,\n",
       "  -91560.89911703681,\n",
       "  -91545.067162505657,\n",
       "  -91530.25279082419,\n",
       "  -91516.349965698959,\n",
       "  -91503.261586986278,\n",
       "  -91490.904333085855,\n",
       "  -91479.212563141395,\n",
       "  -91468.138090211956,\n",
       "  -91457.645000010365,\n",
       "  -91447.703055343212,\n",
       "  -91438.28319022528,\n",
       "  -91429.355359731024,\n",
       "  -91420.887953520316,\n",
       "  -91412.84835932235,\n",
       "  -91405.204071362605,\n",
       "  -91397.923580050119,\n",
       "  -91390.976682500419,\n",
       "  -91384.33436074153,\n",
       "  -91377.968558293069,\n",
       "  -91371.852072506736,\n",
       "  -91365.958597170451,\n",
       "  -91360.262849270468,\n",
       "  -91354.740708495607,\n",
       "  -91349.369335834403,\n",
       "  -91344.127273001373,\n",
       "  -91338.994536951141,\n",
       "  -91333.9527098502,\n",
       "  -91328.984985161209,\n",
       "  -91324.076067609305,\n",
       "  -91319.211745161243,\n",
       "  -91314.377880699365,\n",
       "  -91309.55864567151,\n",
       "  -91304.734686248834,\n",
       "  -91299.88578831093,\n",
       "  -91295.011008381553,\n",
       "  -91290.166775602207,\n",
       "  -91285.449274983825,\n",
       "  -91280.902014896477,\n",
       "  -91276.50721309676,\n",
       "  -91272.238238691702,\n",
       "  -91268.077512547185,\n",
       "  -91264.014451470808,\n",
       "  -91260.042223644879,\n",
       "  -91256.155798358493,\n",
       "  -91252.350805610069,\n",
       "  -91248.622856792936,\n",
       "  -91244.967181642147,\n",
       "  -91241.378520866419],\n",
       " [-128125.72821117593,\n",
       "  -114265.91583712006,\n",
       "  -108126.31378487857,\n",
       "  -104590.28111764647,\n",
       "  -102211.83358391954,\n",
       "  -100471.83366867391,\n",
       "  -99146.941403423465,\n",
       "  -98104.646913671109,\n",
       "  -97261.184691244096,\n",
       "  -96565.448992638994,\n",
       "  -95985.092091101498,\n",
       "  -95499.506846123331,\n",
       "  -95090.463506988657,\n",
       "  -94741.384874303039,\n",
       "  -94439.012663304238,\n",
       "  -94172.900873915307,\n",
       "  -93935.182466370723,\n",
       "  -93720.521625244219,\n",
       "  -93525.82682589785,\n",
       "  -93349.053852638375,\n",
       "  -93188.333101373573,\n",
       "  -93041.994725003577,\n",
       "  -92908.644474153232,\n",
       "  -92787.1611201778,\n",
       "  -92676.678189351544,\n",
       "  -92576.464123230311,\n",
       "  -92485.773786270845,\n",
       "  -92403.782770800419,\n",
       "  -92329.608580710687,\n",
       "  -92262.362008239666,\n",
       "  -92201.193272015866,\n",
       "  -92145.324798540125,\n",
       "  -92094.067761061349,\n",
       "  -92046.824148552696,\n",
       "  -92003.081470382676,\n",
       "  -91962.406181643455,\n",
       "  -91924.437305363972,\n",
       "  -91888.877342617357,\n",
       "  -91855.478058718087,\n",
       "  -91824.023433459413,\n",
       "  -91794.311327277435,\n",
       "  -91766.128665334996,\n",
       "  -91739.206673893132,\n",
       "  -91713.182778799019,\n",
       "  -91687.857597189475,\n",
       "  -91663.533899670569,\n",
       "  -91640.338525925865,\n",
       "  -91618.178172916785,\n",
       "  -91597.006953542543,\n",
       "  -91576.779854603912,\n",
       "  -91557.397630886029,\n",
       "  -91538.731589912306,\n",
       "  -91520.656603489726,\n",
       "  -91503.063476286872,\n",
       "  -91485.858673641807,\n",
       "  -91468.960638162709,\n",
       "  -91452.297064207611,\n",
       "  -91435.804652997394,\n",
       "  -91419.430794923232,\n",
       "  -91403.134397120011,\n",
       "  -91386.882844335429,\n",
       "  -91370.647394317552,\n",
       "  -91354.407035431912,\n",
       "  -91338.168479811386,\n",
       "  -91321.989204369645,\n",
       "  -91305.975864863751,\n",
       "  -91290.25473898054,\n",
       "  -91274.934188138432,\n",
       "  -91260.084647334865,\n",
       "  -91245.746090326385,\n",
       "  -91231.944514513016,\n",
       "  -91218.699869246251,\n",
       "  -91206.022506692403,\n",
       "  -91193.907837360835,\n",
       "  -91182.338409903154,\n",
       "  -91171.291226486253,\n",
       "  -91160.745142114421,\n",
       "  -91150.685576975549,\n",
       "  -91141.104729332423,\n",
       "  -91131.997403036337,\n",
       "  -91123.355216433731,\n",
       "  -91115.162602918936,\n",
       "  -91107.396163981481,\n",
       "  -91100.026661459458,\n",
       "  -91093.021993067872,\n",
       "  -91086.349876475113,\n",
       "  -91079.97977405967,\n",
       "  -91073.884131647981,\n",
       "  -91068.039112231752,\n",
       "  -91062.42489701719,\n",
       "  -91057.025567063902,\n",
       "  -91051.828580488698,\n",
       "  -91046.823851920897,\n",
       "  -91042.002597944331,\n",
       "  -91037.356401127545,\n",
       "  -91032.876853760448,\n",
       "  -91028.555673198862,\n",
       "  -91024.384943524477,\n",
       "  -91020.357271172208],\n",
       " [-129377.17163148517,\n",
       "  -114357.69111717481,\n",
       "  -108191.22532800044,\n",
       "  -104676.20186193065,\n",
       "  -102331.09515810011,\n",
       "  -100677.46754455467,\n",
       "  -99448.301515494677,\n",
       "  -98485.894487153404,\n",
       "  -97699.801297439597,\n",
       "  -97041.521680938153,\n",
       "  -96483.696922129093,\n",
       "  -96007.477200329464,\n",
       "  -95597.279063574562,\n",
       "  -95240.50968554389,\n",
       "  -94927.017305802219,\n",
       "  -94649.092469540381,\n",
       "  -94400.904814228605,\n",
       "  -94177.716162717406,\n",
       "  -93975.757301881124,\n",
       "  -93792.508006475051,\n",
       "  -93626.245333384824,\n",
       "  -93475.213416482686,\n",
       "  -93337.579126594996,\n",
       "  -93211.679512711838,\n",
       "  -93096.113685519289,\n",
       "  -92989.723193744256,\n",
       "  -92891.534195005108,\n",
       "  -92800.722589640747,\n",
       "  -92716.571435440521,\n",
       "  -92638.453432747279,\n",
       "  -92565.820630605478,\n",
       "  -92498.162621391137,\n",
       "  -92434.982374807689,\n",
       "  -92375.804253417606,\n",
       "  -92320.217125400362,\n",
       "  -92267.921388251314,\n",
       "  -92218.701035850812,\n",
       "  -92172.337594244789,\n",
       "  -92128.569918869471,\n",
       "  -92087.113510006078,\n",
       "  -92047.686869193276,\n",
       "  -92010.025014402767,\n",
       "  -91973.897242846229,\n",
       "  -91939.131944527428,\n",
       "  -91905.621208695709,\n",
       "  -91873.296225835395,\n",
       "  -91842.100519205254,\n",
       "  -91811.983788934784,\n",
       "  -91782.904783301114,\n",
       "  -91754.826448038948,\n",
       "  -91727.710754030661,\n",
       "  -91701.520062672658,\n",
       "  -91676.21928068425,\n",
       "  -91651.775324641319,\n",
       "  -91628.156019744507,\n",
       "  -91605.332432797994,\n",
       "  -91583.28082127629,\n",
       "  -91561.978832481705,\n",
       "  -91541.433164734,\n",
       "  -91521.720942675063,\n",
       "  -91502.912273993017,\n",
       "  -91484.985269624696,\n",
       "  -91467.851602493087,\n",
       "  -91451.397964878503,\n",
       "  -91435.506608582567,\n",
       "  -91420.076651948228,\n",
       "  -91405.066834643876,\n",
       "  -91390.534254233047,\n",
       "  -91376.595885367773,\n",
       "  -91363.335365965439,\n",
       "  -91350.766625961653,\n",
       "  -91338.857366699973,\n",
       "  -91327.555683620463,\n",
       "  -91316.803732906454,\n",
       "  -91306.54578655056,\n",
       "  -91296.737040044754,\n",
       "  -91287.351008259502,\n",
       "  -91278.376377882378,\n",
       "  -91269.806223210791,\n",
       "  -91261.634671264692,\n",
       "  -91253.858892911056,\n",
       "  -91246.476380477034,\n",
       "  -91239.47885235626,\n",
       "  -91232.848413191299,\n",
       "  -91226.557818113128,\n",
       "  -91220.573016095543,\n",
       "  -91214.855795989832,\n",
       "  -91209.366667492737,\n",
       "  -91204.071394970815,\n",
       "  -91198.953787573832,\n",
       "  -91194.022730774042,\n",
       "  -91189.29498045746,\n",
       "  -91184.772907435399,\n",
       "  -91180.443864681278,\n",
       "  -91176.289371773804,\n",
       "  -91172.290418676916,\n",
       "  -91168.42889933566,\n",
       "  -91164.687706586104,\n",
       "  -91161.050663662085],\n",
       " [-128937.66259373898,\n",
       "  -115320.90637430338,\n",
       "  -109342.74296710867,\n",
       "  -105801.47841026566,\n",
       "  -103370.60472879291,\n",
       "  -101583.60717484984,\n",
       "  -100217.12217810488,\n",
       "  -99128.328581197668,\n",
       "  -98226.670144738775,\n",
       "  -97458.071356448752,\n",
       "  -96789.319854726753,\n",
       "  -96200.719171307777,\n",
       "  -95682.341151102941,\n",
       "  -95226.027654507387,\n",
       "  -94822.147078240407,\n",
       "  -94465.554818804187,\n",
       "  -94151.953747254622,\n",
       "  -93875.074916507161,\n",
       "  -93628.948634738932,\n",
       "  -93408.459747662579,\n",
       "  -93209.700316351838,\n",
       "  -93029.800875870933,\n",
       "  -92866.584154646087,\n",
       "  -92718.209910989637,\n",
       "  -92582.965134081809,\n",
       "  -92459.552254216338,\n",
       "  -92347.422412868487,\n",
       "  -92246.043921618402,\n",
       "  -92154.391763604042,\n",
       "  -92071.289632445289,\n",
       "  -91995.634450364625,\n",
       "  -91926.456348168722,\n",
       "  -91862.949827750053,\n",
       "  -91804.492576511926,\n",
       "  -91750.619305391636,\n",
       "  -91700.923433528355,\n",
       "  -91654.981799419518,\n",
       "  -91612.361645384794,\n",
       "  -91572.68942787165,\n",
       "  -91535.789509852053,\n",
       "  -91501.601344206705,\n",
       "  -91469.87978127104,\n",
       "  -91440.294077120387,\n",
       "  -91412.559701140781,\n",
       "  -91386.447992501635,\n",
       "  -91361.77609700957,\n",
       "  -91338.398175588896,\n",
       "  -91316.198334400018,\n",
       "  -91295.08477872549,\n",
       "  -91274.984423928632,\n",
       "  -91255.835856741556,\n",
       "  -91237.578770054504,\n",
       "  -91220.143376195338,\n",
       "  -91203.447067945366,\n",
       "  -91187.40217888898,\n",
       "  -91171.937263887143,\n",
       "  -91157.024229630348,\n",
       "  -91142.665897594212,\n",
       "  -91128.842327169899,\n",
       "  -91115.499589854066,\n",
       "  -91102.574829636898,\n",
       "  -91090.019022839988,\n",
       "  -91077.807224815973,\n",
       "  -91065.92773063686,\n",
       "  -91054.366075587357,\n",
       "  -91043.103962300491,\n",
       "  -91032.123850606658,\n",
       "  -91021.411546220217,\n",
       "  -91010.959725265886,\n",
       "  -91000.771210186605,\n",
       "  -90990.857883727498,\n",
       "  -90981.234843104525,\n",
       "  -90971.913532704086,\n",
       "  -90962.897932658583,\n",
       "  -90954.184876033323,\n",
       "  -90945.766554045826,\n",
       "  -90937.632806847803,\n",
       "  -90929.77233174225,\n",
       "  -90922.173257805247,\n",
       "  -90914.823655800297,\n",
       "  -90907.712125206337,\n",
       "  -90900.828355100297,\n",
       "  -90894.163565055554,\n",
       "  -90887.710796910847,\n",
       "  -90881.465033629298,\n",
       "  -90875.423054961531,\n",
       "  -90869.582859437651,\n",
       "  -90863.942528548214,\n",
       "  -90858.498692799854,\n",
       "  -90853.245126853057,\n",
       "  -90848.172062166108,\n",
       "  -90843.266411471646,\n",
       "  -90838.512616128311,\n",
       "  -90833.893684590279,\n",
       "  -90829.392193923413,\n",
       "  -90824.991299514935,\n",
       "  -90820.675921045069,\n",
       "  -90816.434182426921,\n",
       "  -90812.258939940395]]"
      ]
     },
     "execution_count": 122,
     "metadata": {},
     "output_type": "execute_result"
    }
   ],
   "source": [
    "v_star = V[49]\n",
    "v_my_fair = V[484]\n",
    "v_good = V[181]\n",
    "dist_star=[]\n",
    "dist_fair=[]\n",
    "dist_good\n",
    "for v in V:\n",
    "    dist_star.append(np.sqrt(((v - v_star)**2).sum()))\n",
    "    dist_fair.append(np.sqrt(((v - v_my_fair)**2).sum()))\n",
    "    dist_good.append(np.sqrt(((v - v_good)**2).sum()))"
   ]
  },
  {
   "cell_type": "code",
   "execution_count": null,
   "metadata": {
    "collapsed": true
   },
   "outputs": [],
   "source": [
    "star_idx=numpy.argsort(dist_star)[:10]\n",
    "fair_idx= numpy.argsort(dist_fair)[:10]\n",
    "good_idx= numpy.argsort(dist_good)[:10]"
   ]
  },
  {
   "cell_type": "code",
   "execution_count": null,
   "metadata": {
    "collapsed": true
   },
   "outputs": [],
   "source": [
    "dist_star[star_idx]\n",
    "dist_fair[fair_idx]\n",
    "dist_good[good_idx]\n",
    "df_movie_names[star_idx]\n",
    "df_movie_names[fair_idx]\n",
    "df_movie_names[good_idx]"
   ]
  },
  {
   "cell_type": "code",
   "execution_count": null,
   "metadata": {
    "collapsed": true
   },
   "outputs": [],
   "source": [
    "ercentile_list = pd.DataFrame(\n",
    "    {'star_wars_movies': df_movie_names[star_idx],\n",
    "     'star_wars_distances': df_movie_names[fair_idx],\n",
    "     'my_fair_lady_movies': df_movie_names[good_idx],\n",
    "     'my_fair_lady_distances': dist_star[star_idx],\n",
    "     'good_fellas_movies': dist_fair[fair_idx],\n",
    "     'good_fellas_distances': dist_good[good_idx]\n",
    "    })"
   ]
  },
  {
   "cell_type": "code",
   "execution_count": 111,
   "metadata": {},
   "outputs": [
    {
     "data": {
      "image/png": "[encoded data removed]",
      "text/plain": [
       "<Figure size 432x288 with 1 Axes>"
      ]
     },
     "metadata": {},
     "output_type": "display_data"
    }
   ],
   "source": [
    "plt.plot(rmse_test_out[0])\n",
    "plt.show()"
   ]
  },
  {
   "cell_type": "code",
   "execution_count": 49,
   "metadata": {},
   "outputs": [
    {
     "data": {
      "image/png": "[encoded data removed]",
      "text/plain": [
       "<Figure size 432x288 with 1 Axes>"
      ]
     },
     "metadata": {},
     "output_type": "display_data"
    }
   ],
   "source": [
    "plt.plot(rmse_train_arr)\n",
    "plt.show()"
   ]
  }
 ],
 "metadata": {
  "kernelspec": {
   "display_name": "Python 3",
   "language": "python",
   "name": "python3"
  },
  "language_info": {
   "codemirror_mode": {
    "name": "ipython",
    "version": 3
   },
   "file_extension": ".py",
   "mimetype": "text/x-python",
   "name": "python",
   "nbconvert_exporter": "python",
   "pygments_lexer": "ipython3",
   "version": "3.6.3"
  }
 },
 "nbformat": 4,
 "nbformat_minor": 2
}
