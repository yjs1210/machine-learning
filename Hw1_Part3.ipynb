{
 "cells": [
  {
   "cell_type": "code",
   "execution_count": 3,
   "metadata": {
    "collapsed": true
   },
   "outputs": [],
   "source": [
    "import matplotlib.pyplot as plt\n",
    "import numpy as np\n",
    "import pandas as pd\n",
    "%matplotlib inline"
   ]
  },
  {
   "cell_type": "markdown",
   "metadata": {},
   "source": [
    "### Read in data"
   ]
  },
  {
   "cell_type": "code",
   "execution_count": 4,
   "metadata": {},
   "outputs": [],
   "source": [
    "X_test = pd.read_csv(\"data/hw1-data/X_test.csv\", header = None)\n",
    "X_train = pd.read_csv(\"data/hw1-data/X_train.csv\", header = None)\n",
    "y_test = pd.read_csv(\"data/hw1-data/y_test.csv\", header = None)\n",
    "y_train = pd.read_csv(\"data/hw1-data/y_train.csv\", header = None)"
   ]
  },
  {
   "cell_type": "code",
   "execution_count": 5,
   "metadata": {
    "scrolled": true
   },
   "outputs": [
    {
     "data": {
      "text/html": [
       "<div>\n",
       "<style>\n",
       "    .dataframe thead tr:only-child th {\n",
       "        text-align: right;\n",
       "    }\n",
       "\n",
       "    .dataframe thead th {\n",
       "        text-align: left;\n",
       "    }\n",
       "\n",
       "    .dataframe tbody tr th {\n",
       "        vertical-align: top;\n",
       "    }\n",
       "</style>\n",
       "<table border=\"1\" class=\"dataframe\">\n",
       "  <thead>\n",
       "    <tr style=\"text-align: right;\">\n",
       "      <th></th>\n",
       "      <th>0</th>\n",
       "      <th>1</th>\n",
       "      <th>2</th>\n",
       "      <th>3</th>\n",
       "      <th>4</th>\n",
       "      <th>5</th>\n",
       "      <th>6</th>\n",
       "    </tr>\n",
       "  </thead>\n",
       "  <tbody>\n",
       "    <tr>\n",
       "      <th>0</th>\n",
       "      <td>0.30957</td>\n",
       "      <td>-0.36707</td>\n",
       "      <td>0.45545</td>\n",
       "      <td>-0.200830</td>\n",
       "      <td>-0.73992</td>\n",
       "      <td>-0.80885</td>\n",
       "      <td>1</td>\n",
       "    </tr>\n",
       "    <tr>\n",
       "      <th>1</th>\n",
       "      <td>0.30957</td>\n",
       "      <td>0.35920</td>\n",
       "      <td>-0.11611</td>\n",
       "      <td>-0.038361</td>\n",
       "      <td>0.16625</td>\n",
       "      <td>-0.80885</td>\n",
       "      <td>1</td>\n",
       "    </tr>\n",
       "    <tr>\n",
       "      <th>2</th>\n",
       "      <td>-0.86291</td>\n",
       "      <td>-0.99778</td>\n",
       "      <td>-0.89551</td>\n",
       "      <td>-1.225100</td>\n",
       "      <td>-0.55868</td>\n",
       "      <td>-0.26592</td>\n",
       "      <td>1</td>\n",
       "    </tr>\n",
       "    <tr>\n",
       "      <th>3</th>\n",
       "      <td>-0.86291</td>\n",
       "      <td>-0.69198</td>\n",
       "      <td>-0.42787</td>\n",
       "      <td>-0.562260</td>\n",
       "      <td>-0.15997</td>\n",
       "      <td>1.09140</td>\n",
       "      <td>1</td>\n",
       "    </tr>\n",
       "    <tr>\n",
       "      <th>4</th>\n",
       "      <td>-0.86291</td>\n",
       "      <td>-0.92133</td>\n",
       "      <td>-0.63571</td>\n",
       "      <td>-1.251000</td>\n",
       "      <td>-0.41369</td>\n",
       "      <td>0.81993</td>\n",
       "      <td>1</td>\n",
       "    </tr>\n",
       "    <tr>\n",
       "      <th>5</th>\n",
       "      <td>-0.86291</td>\n",
       "      <td>-0.92133</td>\n",
       "      <td>-0.99943</td>\n",
       "      <td>-1.386400</td>\n",
       "      <td>-0.41369</td>\n",
       "      <td>0.54847</td>\n",
       "      <td>1</td>\n",
       "    </tr>\n",
       "    <tr>\n",
       "      <th>6</th>\n",
       "      <td>-0.86291</td>\n",
       "      <td>-0.51997</td>\n",
       "      <td>-0.42787</td>\n",
       "      <td>-0.103110</td>\n",
       "      <td>0.63746</td>\n",
       "      <td>0.81993</td>\n",
       "      <td>1</td>\n",
       "    </tr>\n",
       "    <tr>\n",
       "      <th>7</th>\n",
       "      <td>-0.86291</td>\n",
       "      <td>-0.77799</td>\n",
       "      <td>-0.24601</td>\n",
       "      <td>-0.882480</td>\n",
       "      <td>-0.55868</td>\n",
       "      <td>-1.35180</td>\n",
       "      <td>1</td>\n",
       "    </tr>\n",
       "    <tr>\n",
       "      <th>8</th>\n",
       "      <td>0.30957</td>\n",
       "      <td>0.05340</td>\n",
       "      <td>-0.42787</td>\n",
       "      <td>0.097028</td>\n",
       "      <td>0.56497</td>\n",
       "      <td>1.36290</td>\n",
       "      <td>1</td>\n",
       "    </tr>\n",
       "    <tr>\n",
       "      <th>9</th>\n",
       "      <td>1.48210</td>\n",
       "      <td>1.49640</td>\n",
       "      <td>1.26080</td>\n",
       "      <td>1.385000</td>\n",
       "      <td>-0.73992</td>\n",
       "      <td>-1.35180</td>\n",
       "      <td>1</td>\n",
       "    </tr>\n",
       "  </tbody>\n",
       "</table>\n",
       "</div>"
      ],
      "text/plain": [
       "         0        1        2         3        4        5  6\n",
       "0  0.30957 -0.36707  0.45545 -0.200830 -0.73992 -0.80885  1\n",
       "1  0.30957  0.35920 -0.11611 -0.038361  0.16625 -0.80885  1\n",
       "2 -0.86291 -0.99778 -0.89551 -1.225100 -0.55868 -0.26592  1\n",
       "3 -0.86291 -0.69198 -0.42787 -0.562260 -0.15997  1.09140  1\n",
       "4 -0.86291 -0.92133 -0.63571 -1.251000 -0.41369  0.81993  1\n",
       "5 -0.86291 -0.92133 -0.99943 -1.386400 -0.41369  0.54847  1\n",
       "6 -0.86291 -0.51997 -0.42787 -0.103110  0.63746  0.81993  1\n",
       "7 -0.86291 -0.77799 -0.24601 -0.882480 -0.55868 -1.35180  1\n",
       "8  0.30957  0.05340 -0.42787  0.097028  0.56497  1.36290  1\n",
       "9  1.48210  1.49640  1.26080  1.385000 -0.73992 -1.35180  1"
      ]
     },
     "execution_count": 5,
     "metadata": {},
     "output_type": "execute_result"
    }
   ],
   "source": [
    "X_train.head(10)"
   ]
  },
  {
   "cell_type": "code",
   "execution_count": 6,
   "metadata": {},
   "outputs": [
    {
     "data": {
      "text/plain": [
       "(350, 7)"
      ]
     },
     "execution_count": 6,
     "metadata": {},
     "output_type": "execute_result"
    }
   ],
   "source": [
    "X_train.shape"
   ]
  },
  {
   "cell_type": "code",
   "execution_count": 7,
   "metadata": {},
   "outputs": [
    {
     "data": {
      "text/html": [
       "<div>\n",
       "<style>\n",
       "    .dataframe thead tr:only-child th {\n",
       "        text-align: right;\n",
       "    }\n",
       "\n",
       "    .dataframe thead th {\n",
       "        text-align: left;\n",
       "    }\n",
       "\n",
       "    .dataframe tbody tr th {\n",
       "        vertical-align: top;\n",
       "    }\n",
       "</style>\n",
       "<table border=\"1\" class=\"dataframe\">\n",
       "  <thead>\n",
       "    <tr style=\"text-align: right;\">\n",
       "      <th></th>\n",
       "      <th>0</th>\n",
       "      <th>1</th>\n",
       "      <th>2</th>\n",
       "      <th>3</th>\n",
       "      <th>4</th>\n",
       "      <th>5</th>\n",
       "      <th>6</th>\n",
       "      <th>7</th>\n",
       "      <th>8</th>\n",
       "      <th>9</th>\n",
       "      <th>...</th>\n",
       "      <th>340</th>\n",
       "      <th>341</th>\n",
       "      <th>342</th>\n",
       "      <th>343</th>\n",
       "      <th>344</th>\n",
       "      <th>345</th>\n",
       "      <th>346</th>\n",
       "      <th>347</th>\n",
       "      <th>348</th>\n",
       "      <th>349</th>\n",
       "    </tr>\n",
       "  </thead>\n",
       "  <tbody>\n",
       "    <tr>\n",
       "      <th>0</th>\n",
       "      <td>0.30957</td>\n",
       "      <td>0.309570</td>\n",
       "      <td>-0.86291</td>\n",
       "      <td>-0.86291</td>\n",
       "      <td>-0.86291</td>\n",
       "      <td>-0.86291</td>\n",
       "      <td>-0.86291</td>\n",
       "      <td>-0.86291</td>\n",
       "      <td>0.309570</td>\n",
       "      <td>1.48210</td>\n",
       "      <td>...</td>\n",
       "      <td>-0.86291</td>\n",
       "      <td>-0.86291</td>\n",
       "      <td>0.30957</td>\n",
       "      <td>-0.86291</td>\n",
       "      <td>1.48210</td>\n",
       "      <td>-0.86291</td>\n",
       "      <td>1.48210</td>\n",
       "      <td>0.30957</td>\n",
       "      <td>0.309570</td>\n",
       "      <td>1.48210</td>\n",
       "    </tr>\n",
       "    <tr>\n",
       "      <th>1</th>\n",
       "      <td>-0.36707</td>\n",
       "      <td>0.359200</td>\n",
       "      <td>-0.99778</td>\n",
       "      <td>-0.69198</td>\n",
       "      <td>-0.92133</td>\n",
       "      <td>-0.92133</td>\n",
       "      <td>-0.51997</td>\n",
       "      <td>-0.77799</td>\n",
       "      <td>0.053400</td>\n",
       "      <td>1.49640</td>\n",
       "      <td>...</td>\n",
       "      <td>-0.72065</td>\n",
       "      <td>-0.78755</td>\n",
       "      <td>0.34964</td>\n",
       "      <td>-1.03600</td>\n",
       "      <td>1.49640</td>\n",
       "      <td>-1.00730</td>\n",
       "      <td>1.49640</td>\n",
       "      <td>0.53121</td>\n",
       "      <td>-0.300180</td>\n",
       "      <td>1.02810</td>\n",
       "    </tr>\n",
       "    <tr>\n",
       "      <th>2</th>\n",
       "      <td>0.45545</td>\n",
       "      <td>-0.116110</td>\n",
       "      <td>-0.89551</td>\n",
       "      <td>-0.42787</td>\n",
       "      <td>-0.63571</td>\n",
       "      <td>-0.99943</td>\n",
       "      <td>-0.42787</td>\n",
       "      <td>-0.24601</td>\n",
       "      <td>-0.427870</td>\n",
       "      <td>1.26080</td>\n",
       "      <td>...</td>\n",
       "      <td>-0.58375</td>\n",
       "      <td>-0.42787</td>\n",
       "      <td>1.57260</td>\n",
       "      <td>-1.02540</td>\n",
       "      <td>1.26080</td>\n",
       "      <td>-0.86953</td>\n",
       "      <td>1.13090</td>\n",
       "      <td>-0.84355</td>\n",
       "      <td>0.741230</td>\n",
       "      <td>0.63731</td>\n",
       "    </tr>\n",
       "    <tr>\n",
       "      <th>3</th>\n",
       "      <td>-0.20083</td>\n",
       "      <td>-0.038361</td>\n",
       "      <td>-1.22510</td>\n",
       "      <td>-0.56226</td>\n",
       "      <td>-1.25100</td>\n",
       "      <td>-1.38640</td>\n",
       "      <td>-0.10311</td>\n",
       "      <td>-0.88248</td>\n",
       "      <td>0.097028</td>\n",
       "      <td>1.38500</td>\n",
       "      <td>...</td>\n",
       "      <td>-0.30325</td>\n",
       "      <td>-0.43864</td>\n",
       "      <td>0.55029</td>\n",
       "      <td>-1.18030</td>\n",
       "      <td>1.35560</td>\n",
       "      <td>-1.16270</td>\n",
       "      <td>1.97720</td>\n",
       "      <td>0.53498</td>\n",
       "      <td>0.509080</td>\n",
       "      <td>0.87993</td>\n",
       "    </tr>\n",
       "    <tr>\n",
       "      <th>4</th>\n",
       "      <td>-0.73992</td>\n",
       "      <td>0.166250</td>\n",
       "      <td>-0.55868</td>\n",
       "      <td>-0.15997</td>\n",
       "      <td>-0.41369</td>\n",
       "      <td>-0.41369</td>\n",
       "      <td>0.63746</td>\n",
       "      <td>-0.55868</td>\n",
       "      <td>0.564970</td>\n",
       "      <td>-0.73992</td>\n",
       "      <td>...</td>\n",
       "      <td>1.39860</td>\n",
       "      <td>1.47110</td>\n",
       "      <td>-0.77616</td>\n",
       "      <td>-0.12372</td>\n",
       "      <td>-0.92115</td>\n",
       "      <td>-0.23246</td>\n",
       "      <td>-0.73992</td>\n",
       "      <td>1.97860</td>\n",
       "      <td>0.093761</td>\n",
       "      <td>-0.77616</td>\n",
       "    </tr>\n",
       "    <tr>\n",
       "      <th>5</th>\n",
       "      <td>-0.80885</td>\n",
       "      <td>-0.808850</td>\n",
       "      <td>-0.26592</td>\n",
       "      <td>1.09140</td>\n",
       "      <td>0.81993</td>\n",
       "      <td>0.54847</td>\n",
       "      <td>0.81993</td>\n",
       "      <td>-1.35180</td>\n",
       "      <td>1.362900</td>\n",
       "      <td>-1.35180</td>\n",
       "      <td>...</td>\n",
       "      <td>1.63430</td>\n",
       "      <td>1.63430</td>\n",
       "      <td>0.54847</td>\n",
       "      <td>0.81993</td>\n",
       "      <td>-1.08030</td>\n",
       "      <td>0.54847</td>\n",
       "      <td>-0.26592</td>\n",
       "      <td>-0.26592</td>\n",
       "      <td>0.548470</td>\n",
       "      <td>0.81993</td>\n",
       "    </tr>\n",
       "    <tr>\n",
       "      <th>6</th>\n",
       "      <td>1.00000</td>\n",
       "      <td>1.000000</td>\n",
       "      <td>1.00000</td>\n",
       "      <td>1.00000</td>\n",
       "      <td>1.00000</td>\n",
       "      <td>1.00000</td>\n",
       "      <td>1.00000</td>\n",
       "      <td>1.00000</td>\n",
       "      <td>1.000000</td>\n",
       "      <td>1.00000</td>\n",
       "      <td>...</td>\n",
       "      <td>1.00000</td>\n",
       "      <td>1.00000</td>\n",
       "      <td>1.00000</td>\n",
       "      <td>1.00000</td>\n",
       "      <td>1.00000</td>\n",
       "      <td>1.00000</td>\n",
       "      <td>1.00000</td>\n",
       "      <td>1.00000</td>\n",
       "      <td>1.000000</td>\n",
       "      <td>1.00000</td>\n",
       "    </tr>\n",
       "  </tbody>\n",
       "</table>\n",
       "<p>7 rows × 350 columns</p>\n",
       "</div>"
      ],
      "text/plain": [
       "       0         1        2        3        4        5        6        7    \\\n",
       "0  0.30957  0.309570 -0.86291 -0.86291 -0.86291 -0.86291 -0.86291 -0.86291   \n",
       "1 -0.36707  0.359200 -0.99778 -0.69198 -0.92133 -0.92133 -0.51997 -0.77799   \n",
       "2  0.45545 -0.116110 -0.89551 -0.42787 -0.63571 -0.99943 -0.42787 -0.24601   \n",
       "3 -0.20083 -0.038361 -1.22510 -0.56226 -1.25100 -1.38640 -0.10311 -0.88248   \n",
       "4 -0.73992  0.166250 -0.55868 -0.15997 -0.41369 -0.41369  0.63746 -0.55868   \n",
       "5 -0.80885 -0.808850 -0.26592  1.09140  0.81993  0.54847  0.81993 -1.35180   \n",
       "6  1.00000  1.000000  1.00000  1.00000  1.00000  1.00000  1.00000  1.00000   \n",
       "\n",
       "        8        9     ...         340      341      342      343      344  \\\n",
       "0  0.309570  1.48210   ...    -0.86291 -0.86291  0.30957 -0.86291  1.48210   \n",
       "1  0.053400  1.49640   ...    -0.72065 -0.78755  0.34964 -1.03600  1.49640   \n",
       "2 -0.427870  1.26080   ...    -0.58375 -0.42787  1.57260 -1.02540  1.26080   \n",
       "3  0.097028  1.38500   ...    -0.30325 -0.43864  0.55029 -1.18030  1.35560   \n",
       "4  0.564970 -0.73992   ...     1.39860  1.47110 -0.77616 -0.12372 -0.92115   \n",
       "5  1.362900 -1.35180   ...     1.63430  1.63430  0.54847  0.81993 -1.08030   \n",
       "6  1.000000  1.00000   ...     1.00000  1.00000  1.00000  1.00000  1.00000   \n",
       "\n",
       "       345      346      347       348      349  \n",
       "0 -0.86291  1.48210  0.30957  0.309570  1.48210  \n",
       "1 -1.00730  1.49640  0.53121 -0.300180  1.02810  \n",
       "2 -0.86953  1.13090 -0.84355  0.741230  0.63731  \n",
       "3 -1.16270  1.97720  0.53498  0.509080  0.87993  \n",
       "4 -0.23246 -0.73992  1.97860  0.093761 -0.77616  \n",
       "5  0.54847 -0.26592 -0.26592  0.548470  0.81993  \n",
       "6  1.00000  1.00000  1.00000  1.000000  1.00000  \n",
       "\n",
       "[7 rows x 350 columns]"
      ]
     },
     "execution_count": 7,
     "metadata": {},
     "output_type": "execute_result"
    }
   ],
   "source": [
    "X_trainT = X_train.transpose()\n",
    "X_trainT"
   ]
  },
  {
   "cell_type": "markdown",
   "metadata": {},
   "source": [
    "# Part 1: Code to solve ridge regression problem"
   ]
  },
  {
   "cell_type": "markdown",
   "metadata": {},
   "source": [
    "## Part a)"
   ]
  },
  {
   "cell_type": "markdown",
   "metadata": {},
   "source": [
    "### Wrr Calculation"
   ]
  },
  {
   "cell_type": "code",
   "execution_count": 8,
   "metadata": {
    "collapsed": true
   },
   "outputs": [],
   "source": [
    "wlist = list()\n",
    "dim = X_train.shape[1] # 7\n",
    "n = 5000\n",
    "df = list()\n",
    "product = np.matmul(X_trainT,X_train)\n",
    "for i in range(0,n+1):\n",
    "    wrr = np.matmul(np.linalg.inv((i*np.identity(dim) + product)),np.matmul(X_trainT,y_train))\n",
    "    wlist.append(wrr)\n",
    "\n",
    "#wlist[0]"
   ]
  },
  {
   "cell_type": "markdown",
   "metadata": {},
   "source": [
    "### Extract Coefficients"
   ]
  },
  {
   "cell_type": "code",
   "execution_count": 9,
   "metadata": {
    "collapsed": true
   },
   "outputs": [],
   "source": [
    "d = list()\n",
    "for i in range(0,7):\n",
    "    coefficients = list()\n",
    "    for j in range(0,n+1):\n",
    "        a = wlist[j][i]\n",
    "        #print(a)\n",
    "        coefficients.append(a)\n",
    "    d.append(coefficients)"
   ]
  },
  {
   "cell_type": "markdown",
   "metadata": {},
   "source": [
    "### SVD Method"
   ]
  },
  {
   "cell_type": "code",
   "execution_count": 10,
   "metadata": {
    "collapsed": true
   },
   "outputs": [],
   "source": [
    "u, s, v = np.linalg.svd(X_train)\n",
    "s_squared = s**2\n",
    "df= list()\n",
    "for i in range(0,n+1):\n",
    "    summation = sum(s_squared / (s_squared + (i)))\n",
    "    df.append(summation)"
   ]
  },
  {
   "cell_type": "markdown",
   "metadata": {},
   "source": [
    "### Plot Wrr Coefficients vs. df(lambda)"
   ]
  },
  {
   "cell_type": "code",
   "execution_count": 33,
   "metadata": {},
   "outputs": [
    {
     "ename": "IndexError",
     "evalue": "list index out of range",
     "output_type": "error",
     "traceback": [
      "\u001b[1;31m---------------------------------------------------------------------------\u001b[0m",
      "\u001b[1;31mIndexError\u001b[0m                                Traceback (most recent call last)",
      "\u001b[1;32m<ipython-input-33-ce42e0281329>\u001b[0m in \u001b[0;36m<module>\u001b[1;34m()\u001b[0m\n\u001b[0;32m      4\u001b[0m \u001b[0ml\u001b[0m \u001b[1;33m=\u001b[0m \u001b[1;33m{\u001b[0m\u001b[1;36m0\u001b[0m\u001b[1;33m:\u001b[0m \u001b[1;34m'Cylinders'\u001b[0m\u001b[1;33m,\u001b[0m \u001b[1;36m1\u001b[0m\u001b[1;33m:\u001b[0m \u001b[1;34m'Displacement'\u001b[0m\u001b[1;33m,\u001b[0m \u001b[1;36m2\u001b[0m\u001b[1;33m:\u001b[0m \u001b[1;34m'Horsepower'\u001b[0m\u001b[1;33m,\u001b[0m \u001b[1;36m3\u001b[0m\u001b[1;33m:\u001b[0m \u001b[1;34m'Weight'\u001b[0m\u001b[1;33m,\u001b[0m\u001b[1;36m4\u001b[0m\u001b[1;33m:\u001b[0m \u001b[1;34m'Acceleration'\u001b[0m\u001b[1;33m,\u001b[0m\u001b[1;36m5\u001b[0m\u001b[1;33m:\u001b[0m \u001b[1;34m'Year Made'\u001b[0m\u001b[1;33m,\u001b[0m \u001b[1;36m6\u001b[0m\u001b[1;33m:\u001b[0m \u001b[1;34m'Intercept'\u001b[0m\u001b[1;33m}\u001b[0m\u001b[1;33m\u001b[0m\u001b[0m\n\u001b[0;32m      5\u001b[0m \u001b[1;32mfor\u001b[0m \u001b[0mi\u001b[0m \u001b[1;32min\u001b[0m \u001b[0mrange\u001b[0m\u001b[1;33m(\u001b[0m\u001b[1;36m0\u001b[0m\u001b[1;33m,\u001b[0m \u001b[0mdim\u001b[0m\u001b[1;33m)\u001b[0m\u001b[1;33m:\u001b[0m\u001b[1;33m\u001b[0m\u001b[0m\n\u001b[1;32m----> 6\u001b[1;33m         \u001b[0max1\u001b[0m\u001b[1;33m.\u001b[0m\u001b[0mplot\u001b[0m\u001b[1;33m(\u001b[0m\u001b[0mdf\u001b[0m\u001b[1;33m,\u001b[0m \u001b[0md\u001b[0m\u001b[1;33m[\u001b[0m\u001b[0mi\u001b[0m\u001b[1;33m]\u001b[0m\u001b[1;33m,\u001b[0m \u001b[0mc\u001b[0m \u001b[1;33m=\u001b[0m \u001b[0mcolor\u001b[0m\u001b[1;33m[\u001b[0m\u001b[0mi\u001b[0m\u001b[1;33m]\u001b[0m\u001b[1;33m,\u001b[0m \u001b[0mmarker\u001b[0m \u001b[1;33m=\u001b[0m \u001b[1;34m'o'\u001b[0m\u001b[1;33m,\u001b[0m \u001b[0mlabel\u001b[0m \u001b[1;33m=\u001b[0m \u001b[0ml\u001b[0m\u001b[1;33m[\u001b[0m\u001b[0mi\u001b[0m\u001b[1;33m]\u001b[0m\u001b[1;33m)\u001b[0m\u001b[1;33m\u001b[0m\u001b[0m\n\u001b[0m\u001b[0;32m      7\u001b[0m \u001b[0max1\u001b[0m\u001b[1;33m.\u001b[0m\u001b[0mset_xlabel\u001b[0m\u001b[1;33m(\u001b[0m\u001b[1;34m\"df(lambda)\"\u001b[0m\u001b[1;33m)\u001b[0m\u001b[1;33m\u001b[0m\u001b[0m\n\u001b[0;32m      8\u001b[0m \u001b[0max1\u001b[0m\u001b[1;33m.\u001b[0m\u001b[0mset_ylabel\u001b[0m\u001b[1;33m(\u001b[0m\u001b[1;34m\"WRR Coefficient\"\u001b[0m\u001b[1;33m)\u001b[0m\u001b[1;33m\u001b[0m\u001b[0m\n",
      "\u001b[1;31mIndexError\u001b[0m: list index out of range"
     ]
    },
    {
     "data": {
      "image/png": "[encoded data removed]",
      "text/plain": [
       "<Figure size 432x288 with 1 Axes>"
      ]
     },
     "metadata": {},
     "output_type": "display_data"
    }
   ],
   "source": [
    "fig = plt.figure()\n",
    "ax1 = plt.gca()\n",
    "color = {0: 'lightgreen', 1: 'orange', 2: 'yellow', 3: 'indianred',4: 'pink',5: 'mediumpurple',6: 'paleturquoise'}\n",
    "l = {0: 'Cylinders', 1: 'Displacement', 2: 'Horsepower', 3: 'Weight',4: 'Acceleration',5: 'Year Made', 6: 'Intercept'}\n",
    "for i in range(0, dim):\n",
    "        ax1.plot(df, d[i], c = color[i], marker = 'o', label = l[i])\n",
    "ax1.set_xlabel(\"df(lambda)\")\n",
    "ax1.set_ylabel(\"WRR Coefficient\")\n",
    "plt.suptitle(\"WRR Coefficient vs. df(lambda)\", y = 0.9)\n",
    "ax1.legend()"
   ]
  },
  {
   "cell_type": "markdown",
   "metadata": {},
   "source": [
    "## Part b) \n",
    "\n",
    "### The two dimensions that stand out the most over the others are 'Weight' and 'Year Made'. We can glean that these two variables, as the df increases, out lambda decreases and causes the wrr coefficent to be set to 0. Those dimensions have the most effect on the dependent variable, mpg for the car.  "
   ]
  },
  {
   "cell_type": "markdown",
   "metadata": {},
   "source": [
    "## Part c)"
   ]
  },
  {
   "cell_type": "markdown",
   "metadata": {},
   "source": [
    "### Run with each of 42 test cases"
   ]
  },
  {
   "cell_type": "code",
   "execution_count": 12,
   "metadata": {
    "collapsed": true
   },
   "outputs": [],
   "source": [
    "new_wlist = list()\n",
    "dim = X_train.shape[1] # 7\n",
    "\n",
    "product = np.matmul(X_trainT,X_train)\n",
    "for i in range(0,51):\n",
    "    wrr_new = np.matmul(np.linalg.inv((i*np.identity(dim) + product)),np.matmul(X_trainT,y_train))\n",
    "    new_wlist.append(wrr_new)"
   ]
  },
  {
   "cell_type": "code",
   "execution_count": 13,
   "metadata": {
    "collapsed": true
   },
   "outputs": [],
   "source": [
    "rmse_list= list()\n",
    "for i in range(0,50+1):\n",
    "   rmse_list.append(np.sqrt(np.average(np.square(y_test - np.matmul(X_test, new_wlist[i])))))"
   ]
  },
  {
   "cell_type": "markdown",
   "metadata": {},
   "source": [
    "### Plotting the RMSE"
   ]
  },
  {
   "cell_type": "code",
   "execution_count": 14,
   "metadata": {},
   "outputs": [
    {
     "data": {
      "text/plain": [
       "Text(0.5,0.9,'RMSE vs. Lambda')"
      ]
     },
     "execution_count": 14,
     "metadata": {},
     "output_type": "execute_result"
    },
    {
     "data": {
      "image/png": "[encoded data removed]",
      "text/plain": [
       "<Figure size 720x720 with 1 Axes>"
      ]
     },
     "metadata": {},
     "output_type": "display_data"
    }
   ],
   "source": [
    "fig = plt.figure(figsize=(10, 10))\n",
    "ax1 = plt.gca()\n",
    "\n",
    "ax1.plot(range(0,51), rmse_list, marker = 'o')\n",
    "ax1.set_xlabel(\"lambda\")\n",
    "ax1.set_ylabel(\"RMSE\")\n",
    "plt.suptitle(\"RMSE vs. Lambda\", y = 0.9)"
   ]
  },
  {
   "cell_type": "markdown",
   "metadata": {},
   "source": [
    "## Insights:\n",
    "### We can see from the graph that at lower values of lambda, we experience low RMSE's. However, as the lambda increases, the RMSE increases, albeit at a decreasing rate. Since the RMSE is minimized when lambda = 0, we are effectively solving a least squares problem. Therefore, we might as well just use a least squares regression method to solve for/estimate w."
   ]
  },
  {
   "cell_type": "markdown",
   "metadata": {},
   "source": [
    "# Part 2: pth order polynomial regression model"
   ]
  },
  {
   "cell_type": "code",
   "execution_count": 15,
   "metadata": {
    "collapsed": true
   },
   "outputs": [],
   "source": [
    "xtrain1= X_train.copy()\n",
    "xtrain2 = X_train.copy()"
   ]
  },
  {
   "cell_type": "code",
   "execution_count": 16,
   "metadata": {},
   "outputs": [
    {
     "data": {
      "text/html": [
       "<div>\n",
       "<style>\n",
       "    .dataframe thead tr:only-child th {\n",
       "        text-align: right;\n",
       "    }\n",
       "\n",
       "    .dataframe thead th {\n",
       "        text-align: left;\n",
       "    }\n",
       "\n",
       "    .dataframe tbody tr th {\n",
       "        vertical-align: top;\n",
       "    }\n",
       "</style>\n",
       "<table border=\"1\" class=\"dataframe\">\n",
       "  <thead>\n",
       "    <tr style=\"text-align: right;\">\n",
       "      <th></th>\n",
       "      <th>0</th>\n",
       "      <th>1</th>\n",
       "      <th>2</th>\n",
       "      <th>3</th>\n",
       "      <th>4</th>\n",
       "      <th>5</th>\n",
       "      <th>6</th>\n",
       "    </tr>\n",
       "  </thead>\n",
       "  <tbody>\n",
       "    <tr>\n",
       "      <th>0</th>\n",
       "      <td>0.30957</td>\n",
       "      <td>-0.36707</td>\n",
       "      <td>0.45545</td>\n",
       "      <td>-0.200830</td>\n",
       "      <td>-0.73992</td>\n",
       "      <td>-0.80885</td>\n",
       "      <td>1</td>\n",
       "    </tr>\n",
       "    <tr>\n",
       "      <th>1</th>\n",
       "      <td>0.30957</td>\n",
       "      <td>0.35920</td>\n",
       "      <td>-0.11611</td>\n",
       "      <td>-0.038361</td>\n",
       "      <td>0.16625</td>\n",
       "      <td>-0.80885</td>\n",
       "      <td>1</td>\n",
       "    </tr>\n",
       "    <tr>\n",
       "      <th>2</th>\n",
       "      <td>-0.86291</td>\n",
       "      <td>-0.99778</td>\n",
       "      <td>-0.89551</td>\n",
       "      <td>-1.225100</td>\n",
       "      <td>-0.55868</td>\n",
       "      <td>-0.26592</td>\n",
       "      <td>1</td>\n",
       "    </tr>\n",
       "    <tr>\n",
       "      <th>3</th>\n",
       "      <td>-0.86291</td>\n",
       "      <td>-0.69198</td>\n",
       "      <td>-0.42787</td>\n",
       "      <td>-0.562260</td>\n",
       "      <td>-0.15997</td>\n",
       "      <td>1.09140</td>\n",
       "      <td>1</td>\n",
       "    </tr>\n",
       "    <tr>\n",
       "      <th>4</th>\n",
       "      <td>-0.86291</td>\n",
       "      <td>-0.92133</td>\n",
       "      <td>-0.63571</td>\n",
       "      <td>-1.251000</td>\n",
       "      <td>-0.41369</td>\n",
       "      <td>0.81993</td>\n",
       "      <td>1</td>\n",
       "    </tr>\n",
       "  </tbody>\n",
       "</table>\n",
       "</div>"
      ],
      "text/plain": [
       "         0        1        2         3        4        5  6\n",
       "0  0.30957 -0.36707  0.45545 -0.200830 -0.73992 -0.80885  1\n",
       "1  0.30957  0.35920 -0.11611 -0.038361  0.16625 -0.80885  1\n",
       "2 -0.86291 -0.99778 -0.89551 -1.225100 -0.55868 -0.26592  1\n",
       "3 -0.86291 -0.69198 -0.42787 -0.562260 -0.15997  1.09140  1\n",
       "4 -0.86291 -0.92133 -0.63571 -1.251000 -0.41369  0.81993  1"
      ]
     },
     "execution_count": 16,
     "metadata": {},
     "output_type": "execute_result"
    }
   ],
   "source": [
    "xtrain2.head() "
   ]
  },
  {
   "cell_type": "code",
   "execution_count": 17,
   "metadata": {
    "collapsed": true
   },
   "outputs": [],
   "source": [
    "p2_mean = []\n",
    "p2_std = []\n",
    "p3_mean = []\n",
    "p3_std = []\n",
    "\n",
    "\n",
    "\n",
    "for i in range(0,6):\n",
    "    p2_mean.append(np.average(np.square(xtrain1.iloc[:,i])))\n",
    "    p2_std.append(np.std(np.square(xtrain1.iloc[:,i])))\n",
    "    p3_mean.append(np.average(np.power(xtrain1.iloc[:,i],3)))\n",
    "    p3_std.append(np.std(np.power(xtrain1.iloc[:,i],3)))"
   ]
  },
  {
   "cell_type": "markdown",
   "metadata": {},
   "source": [
    "### Powerize Function"
   ]
  },
  {
   "cell_type": "code",
   "execution_count": 18,
   "metadata": {
    "collapsed": true
   },
   "outputs": [],
   "source": [
    "def powerize_2(df):\n",
    "    for i in range(0,6):\n",
    "        df[str(i)+'s'] = np.square(df.iloc[:,i])\n",
    "        df[str(i)+ 's'] = (df[str(i)+ 's'] - np.average(df[str(i)+ 's']))/np.std(df[str(i)+ 's'])\n",
    "    return df\n",
    "\n",
    "def powerize_3(df):\n",
    "    for i in range(0,6):\n",
    "        df[str(i)+'c'] = np.power(df.iloc[:,i],3)\n",
    "        df[str(i)+ 'c'] = (df[str(i)+ 'c'] - np.average(df[str(i)+ 'c']))/np.std(df[str(i)+ 'c']) \n",
    "    return df\n",
    "\n",
    "xtrain2 = powerize_2(xtrain2)"
   ]
  },
  {
   "cell_type": "code",
   "execution_count": 19,
   "metadata": {
    "collapsed": true
   },
   "outputs": [],
   "source": [
    "xtrain3 = powerize_3(xtrain2.copy())"
   ]
  },
  {
   "cell_type": "markdown",
   "metadata": {},
   "source": [
    "### Find Wrrs "
   ]
  },
  {
   "cell_type": "code",
   "execution_count": 20,
   "metadata": {
    "collapsed": true
   },
   "outputs": [],
   "source": [
    "p1_wlist = list()\n",
    "dim = xtrain1.shape[1] # 7\n",
    "xtrain1_T = xtrain1.transpose()\n",
    "product = np.matmul(xtrain1_T,xtrain1)\n",
    "for i in range(0,101):\n",
    "    p1_wrr = np.matmul(np.linalg.inv((i*np.identity(dim) + product)),np.matmul(xtrain1_T,y_train))\n",
    "    p1_wlist.append(p1_wrr)\n"
   ]
  },
  {
   "cell_type": "code",
   "execution_count": 21,
   "metadata": {
    "collapsed": true
   },
   "outputs": [],
   "source": [
    "p2_wlist = list()\n",
    "dim = xtrain2.shape[1] # 7\n",
    "xtrain2_T = xtrain2.transpose()\n",
    "product = np.matmul(xtrain2_T,xtrain2)\n",
    "for i in range(0,101):\n",
    "    p2_wrr = np.matmul(np.linalg.inv((i*np.identity(dim) + product)),np.matmul(xtrain2_T,y_train))\n",
    "    p2_wlist.append(p2_wrr)\n"
   ]
  },
  {
   "cell_type": "code",
   "execution_count": 22,
   "metadata": {
    "collapsed": true
   },
   "outputs": [],
   "source": [
    "p3_wlist = list()\n",
    "dim = xtrain3.shape[1] # 7\n",
    "xtrain3_T = xtrain3.transpose()\n",
    "product = np.matmul(xtrain3_T,xtrain3)\n",
    "for i in range(0,101):\n",
    "    p3_wrr = np.matmul(np.linalg.inv((i*np.identity(dim) + product)),np.matmul(xtrain3_T,y_train))\n",
    "    p3_wlist.append(p3_wrr)"
   ]
  },
  {
   "cell_type": "markdown",
   "metadata": {},
   "source": [
    "### Powerize Xtest data"
   ]
  },
  {
   "cell_type": "code",
   "execution_count": 23,
   "metadata": {
    "collapsed": true
   },
   "outputs": [],
   "source": [
    "X_test1= X_test.copy()\n",
    "X_test2 = X_test.copy()"
   ]
  },
  {
   "cell_type": "code",
   "execution_count": 24,
   "metadata": {
    "collapsed": true
   },
   "outputs": [],
   "source": [
    "def powerize_2_test(df):\n",
    "    for i in range(0,6):\n",
    "        df[str(i)+'s'] = np.square(df.iloc[:,i])\n",
    "        df[str(i)+ 's'] = (df[str(i)+ 's'] - p2_mean[i])/p2_std[i]\n",
    "    return df\n",
    "\n",
    "def powerize_3_test(df):\n",
    "    for i in range(0,6):\n",
    "        df[str(i)+'c'] = np.power(df.iloc[:,i],3)\n",
    "        df[str(i)+ 'c'] = (df[str(i)+ 'c'] - p3_mean[i])/p3_std[i]\n",
    "    return df\n"
   ]
  },
  {
   "cell_type": "code",
   "execution_count": 25,
   "metadata": {
    "collapsed": true
   },
   "outputs": [],
   "source": [
    "X_test2 = powerize_2_test(X_test2)"
   ]
  },
  {
   "cell_type": "code",
   "execution_count": 26,
   "metadata": {},
   "outputs": [
    {
     "data": {
      "text/plain": [
       "(42, 19)"
      ]
     },
     "execution_count": 26,
     "metadata": {},
     "output_type": "execute_result"
    }
   ],
   "source": [
    "X_test3 = powerize_3_test(X_test2.copy())\n",
    "X_test3.shape"
   ]
  },
  {
   "cell_type": "markdown",
   "metadata": {},
   "source": [
    "### RMSE Calculations"
   ]
  },
  {
   "cell_type": "code",
   "execution_count": 27,
   "metadata": {
    "collapsed": true
   },
   "outputs": [],
   "source": [
    "rmse_list1= list()\n",
    "for i in range(0,100+1):\n",
    "   rmse_list1.append(np.sqrt(np.average(np.square(y_test - np.matmul(X_test1, p1_wlist[i])))))"
   ]
  },
  {
   "cell_type": "code",
   "execution_count": 28,
   "metadata": {
    "collapsed": true
   },
   "outputs": [],
   "source": [
    "rmse_list2= list()\n",
    "for i in range(0,100+1):\n",
    "    rmse_list2.append(np.sqrt(np.average(np.square(y_test - np.matmul(X_test2, p2_wlist[i])))))"
   ]
  },
  {
   "cell_type": "code",
   "execution_count": 29,
   "metadata": {
    "collapsed": true
   },
   "outputs": [],
   "source": [
    "rmse_list3= list()\n",
    "for i in range(0,100+1):\n",
    "   rmse_list3.append(np.sqrt(np.average(np.square(y_test - np.matmul(X_test3, p3_wlist[i])))))"
   ]
  },
  {
   "cell_type": "code",
   "execution_count": 30,
   "metadata": {
    "scrolled": true
   },
   "outputs": [
    {
     "data": {
      "text/plain": [
       "<matplotlib.legend.Legend at 0x1ccf9f18630>"
      ]
     },
     "execution_count": 30,
     "metadata": {},
     "output_type": "execute_result"
    },
    {
     "data": {
      "image/png": "[encoded data removed]",
      "text/plain": [
       "<Figure size 720x720 with 1 Axes>"
      ]
     },
     "metadata": {},
     "output_type": "display_data"
    }
   ],
   "source": [
    "fig = plt.figure(figsize=(10, 10))\n",
    "ax1 = plt.gca()\n",
    "#color = {0: 'lightgreen', 1: 'orange', 2: 'yellow',3: 'indianred',4: 'pink',5: 'mediumpurple',6: 'paleturquoise'}\n",
    "\n",
    "ax1.plot(range(0,101), rmse_list1, marker = 'o', c = 'b', label = \"p=1\")\n",
    "ax1.plot(range(0,101), rmse_list2, marker = 'o', c= 'r', label = \"p=2\")\n",
    "ax1.plot(range(0,101), rmse_list3, marker = 'o', c= 'g', label = \"p=3\")\n",
    "ax1.set_xlabel(\"lambda\")\n",
    "ax1.set_ylabel(\"RMSE\")\n",
    "plt.suptitle(\"RMSE vs. Lambda\", y = 0.9)\n",
    "ax1.legend()\n"
   ]
  },
  {
   "cell_type": "markdown",
   "metadata": {},
   "source": [
    "## Part 2d) We should choose the p = 3 value, which involves the transformation of X to include squared and cubic terms. The general trend of this line decreases when lambda is in between [0,40] and then slowly increases after that, which may signal potential overfitting when lambda is large and the model is more complex. Since p=3 line overall results in a RMSE measure of lambda = 0 through 100, we want to choose this one since it has the least amount of model error. The lambda for which the RMSE is minimized is when lambda = 40. \n",
    "## This differs from our previous lambda choice, which was lambda = 0.  "
   ]
  }
 ],
 "metadata": {
  "kernelspec": {
   "display_name": "Python 3",
   "language": "python",
   "name": "python3"
  },
  "language_info": {
   "codemirror_mode": {
    "name": "ipython",
    "version": 3
   },
   "file_extension": ".py",
   "mimetype": "text/x-python",
   "name": "python",
   "nbconvert_exporter": "python",
   "pygments_lexer": "ipython3",
   "version": "3.6.3"
  }
 },
 "nbformat": 4,
 "nbformat_minor": 2
}
