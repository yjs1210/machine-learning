{
 "cells": [
  {
   "cell_type": "markdown",
   "metadata": {},
   "source": [
    "## Problem 1"
   ]
  },
  {
   "cell_type": "code",
   "execution_count": 1,
   "metadata": {
    "collapsed": true
   },
   "outputs": [],
   "source": [
    "import numpy as np\n",
    "import matplotlib.pyplot as plt\n",
    "import pandas as pd\n",
    "from numpy.linalg import inv\n",
    "%matplotlib inline"
   ]
  },
  {
   "cell_type": "code",
   "execution_count": 2,
   "metadata": {
    "collapsed": true
   },
   "outputs": [],
   "source": [
    "mu1 = [0,0]\n",
    "cov1 = [[1,0],[0,1]]\n",
    "mu2 = [3,0]\n",
    "cov2 = [[1,0],[0,1]]\n",
    "mu3 = [0,3]\n",
    "cov3 = [[1,0],[0,1]]\n",
    "pi = [.2,.5,.3]"
   ]
  },
  {
   "cell_type": "code",
   "execution_count": 3,
   "metadata": {
    "collapsed": true
   },
   "outputs": [],
   "source": [
    "n= []\n",
    "for i in range(500):\n",
    "    g = np.random.choice(np.arange(1,4), p = pi)\n",
    "    if g ==1: \n",
    "        mu,var=mu1,cov1\n",
    "    elif g==2:\n",
    "        mu,var = mu2,cov2\n",
    "    else:\n",
    "        mu,var = mu3,cov3\n",
    "    n.extend(np.random.multivariate_normal(mu, var, 1))                       "
   ]
  },
  {
   "cell_type": "code",
   "execution_count": 4,
   "metadata": {
    "collapsed": true
   },
   "outputs": [],
   "source": [
    "n=np.array([np.array(xi) for xi in n])"
   ]
  },
  {
   "cell_type": "code",
   "execution_count": 5,
   "metadata": {
    "collapsed": true
   },
   "outputs": [],
   "source": [
    "def kmeans(n,k, plotit = False, f= None, idx = None):\n",
    "    init_u = n[np.random.randint(500, size =k),:]\n",
    "    dists = {}\n",
    "    cost_arr = []\n",
    "    c= np.zeros(500)\n",
    "    for i in range(20):\n",
    "        for j in range(k):\n",
    "            dists[j] = np.sqrt(((n - init_u[j])**2).sum(axis=1))\n",
    "        for index,val in np.ndenumerate(c):\n",
    "            c[index] = 0\n",
    "            tmp= dists[0][index]\n",
    "            for j in range(k):\n",
    "                if j ==0: continue\n",
    "                if tmp > dists[j][index]:\n",
    "                    c[index] = j\n",
    "                    tmp= dists[j][index]\n",
    "        for j in range(k):\n",
    "            init_u[j] = n[np.where(c==j)].mean(axis=0)\n",
    "        cost =0\n",
    "        for j in range(k):\n",
    "            cost += dists[j][np.where(c==j)].sum()\n",
    "        cost_arr.append(cost)\n",
    "    if plotit: \n",
    "        plt.plot(cost_arr, label = \"K = \" + str(k))\n",
    "        plt.xlabel(\"Iteration Step\")\n",
    "        plt.legend()\n",
    "    \n",
    "    return c\n",
    "        "
   ]
  },
  {
   "cell_type": "code",
   "execution_count": 6,
   "metadata": {},
   "outputs": [
    {
     "data": {
      "text/plain": [
       "Text(0.5,1,'Cost vs Iteration Step')"
      ]
     },
     "execution_count": 6,
     "metadata": {},
     "output_type": "execute_result"
    },
    {
     "data": {
      "image/png": "[encoded data removed]",
      "text/plain": [
       "<Figure size 360x504 with 1 Axes>"
      ]
     },
     "metadata": {},
     "output_type": "display_data"
    }
   ],
   "source": [
    "f = plt.figure(figsize=(5,7))\n",
    "v = 0 \n",
    "for k in [2,3,4,5]:\n",
    "    kmeans(n,k,plotit=True,f=f, idx =v)\n",
    "    v+= 1\n",
    "plt.xlabel(\"Iteration Step\")\n",
    "plt.ylabel(\"Cost, L2 Norm\")\n",
    "plt.title(\"Cost vs Iteration Step\")"
   ]
  },
  {
   "cell_type": "code",
   "execution_count": 8,
   "metadata": {
    "collapsed": true
   },
   "outputs": [],
   "source": [
    "c3 = kmeans(n,3)\n",
    "c5 = kmeans(n,5)"
   ]
  },
  {
   "cell_type": "code",
   "execution_count": 33,
   "metadata": {
    "scrolled": true
   },
   "outputs": [
    {
     "data": {
      "text/plain": [
       "Text(0.5,1,'K=3 Cluster Assignment')"
      ]
     },
     "execution_count": 33,
     "metadata": {},
     "output_type": "execute_result"
    },
    {
     "data": {
      "image/png": "[encoded data removed]",
      "text/plain": [
       "<Figure size 432x288 with 1 Axes>"
      ]
     },
     "metadata": {},
     "output_type": "display_data"
    }
   ],
   "source": [
    "plt.scatter(n[c3==0,0],n[c3==0,1],label = 'Cluster=0')\n",
    "plt.scatter(n[c3==1,0],n[c3==1,1],label = 'Cluster=1')\n",
    "plt.scatter(n[c3==2,0],n[c3==2,1],label = 'Cluster=2')\n",
    "plt.legend()\n",
    "plt.title('K=3 Cluster Assignment')"
   ]
  },
  {
   "cell_type": "code",
   "execution_count": 36,
   "metadata": {
    "scrolled": true
   },
   "outputs": [
    {
     "data": {
      "text/plain": [
       "Text(0.5,1,'K=5 Cluster Assignment')"
      ]
     },
     "execution_count": 36,
     "metadata": {},
     "output_type": "execute_result"
    },
    {
     "data": {
      "image/png": "[encoded data removed]",
      "text/plain": [
       "<Figure size 432x288 with 1 Axes>"
      ]
     },
     "metadata": {},
     "output_type": "display_data"
    }
   ],
   "source": [
    "plt.scatter(n[c5==0,0],n[c5==0,1],label = 'Cluster=0')\n",
    "plt.scatter(n[c5==1,0],n[c5==1,1],label = 'Cluster=1')\n",
    "plt.scatter(n[c5==2,0],n[c5==2,1],label = 'Cluster=2')\n",
    "plt.scatter(n[c5==3,0],n[c5==3,1],label = 'Cluster=3')\n",
    "plt.scatter(n[c5==4,0],n[c5==4,1],label = 'Cluster=4')\n",
    "plt.legend()\n",
    "plt.title('K=5 Cluster Assignment')"
   ]
  },
  {
   "cell_type": "markdown",
   "metadata": {},
   "source": [
    "## Problem 2"
   ]
  },
  {
   "cell_type": "code",
   "execution_count": 243,
   "metadata": {
    "collapsed": true
   },
   "outputs": [],
   "source": [
    "from scipy.stats import multivariate_normal as mvn"
   ]
  },
  {
   "cell_type": "code",
   "execution_count": 238,
   "metadata": {},
   "outputs": [],
   "source": [
    "X_train = pd.read_csv(\"data/hw3-data/Prob2_Xtrain.csv\", header=None)\n",
    "X_test = pd.read_csv(\"data/hw3-data/Prob2_Xtest.csv\", header=None)\n",
    "y_train = pd.read_csv(\"data/hw3-data/Prob2_ytrain.csv\", header=None)\n",
    "y_test = pd.read_csv(\"data/hw3-data/Prob2_ytest.csv\", header=None)"
   ]
  },
  {
   "cell_type": "code",
   "execution_count": 239,
   "metadata": {
    "collapsed": true
   },
   "outputs": [],
   "source": [
    "X_train0 = X_train[y_train[0]==0]\n",
    "y_train0 = y_train[y_train[0]==0]\n",
    "X_train1 = X_train[y_train[0]==1]\n",
    "y_train1 = y_train[y_train[0]==1]"
   ]
  },
  {
   "cell_type": "code",
   "execution_count": 268,
   "metadata": {
    "collapsed": true
   },
   "outputs": [],
   "source": [
    "def em_gmm(X, pis, mus, sigmas, max_iter=30):\n",
    "    n, p = X.shape\n",
    "    k = len(pis)\n",
    "\n",
    "    ll_old = 0\n",
    "    lls = [ll_old]\n",
    "\n",
    "    def scale(vec):\n",
    "        return vec / np.sum(vec)\n",
    "\n",
    "    for i in range(max_iter):\n",
    "        #E part\n",
    "        ws = np.zeros((n, k))\n",
    "        for j in range(k):\n",
    "            ws[:, j] = pis[j] * mvn(mus[j], sigmas[j]).pdf(X) \n",
    "        ws = np.apply_along_axis(scale, 1, ws)\n",
    "\n",
    "        #M part\n",
    "        nks = np.sum(ws, axis=0)\n",
    "        pis = nks/n\n",
    "        mus = np.transpose(np.dot(np.transpose(X), ws) / nks)\n",
    "\n",
    "        for j in range(k):\n",
    "            phis = ws[:,j]\n",
    "            nk = nks[j]\n",
    "            sigma = np.dot(((X - mus[j]).T * phis),(X - mus[j]))/ nk\n",
    "            sigmas[j] = sigma\n",
    "\n",
    "        #find new LLs\n",
    "        ll_new = 0\n",
    "        for pi, mu, sigma in zip(pis, mus, sigmas):\n",
    "            ll_new += pi*mvn(mu, sigma).pdf(X)\n",
    "        ll_new = np.log(ll_new).sum()\n",
    "        ll_old = ll_new\n",
    "        lls.append(ll_old)\n",
    "        \n",
    "    return (pis, mus, sigmas, lls)"
   ]
  },
  {
   "cell_type": "code",
   "execution_count": 269,
   "metadata": {},
   "outputs": [
    {
     "data": {
      "image/png": "[encoded data removed]",
      "text/plain": [
       "<Figure size 432x288 with 1 Axes>"
      ]
     },
     "metadata": {},
     "output_type": "display_data"
    }
   ],
   "source": [
    "k = 3\n",
    "X = X_train1\n",
    "y = y_train1\n",
    "out1 = []\n",
    "mu = np.mean(X)\n",
    "sigma= np.cov(X, rowvar =False)\n",
    "\n",
    "for i in range(10):  \n",
    "    mu = np.mean(X)\n",
    "    sigma = np.cov(X, rowvar =False)\n",
    "    mus = mvn.rvs(mu, sigma, size=k)\n",
    "    sigmas = []\n",
    "    for j in range(k):\n",
    "        sigmas.append(sigma.copy())\n",
    "    pis = np.repeat(1/k, k)\n",
    "    res = em_gmm(X, pis, mus, sigmas)\n",
    "    out1.append(res)\n",
    "    plt.plot(range(5,31), res[3][5:], label=str(i+1))\n",
    "_ = plt.legend()"
   ]
  },
  {
   "cell_type": "code",
   "execution_count": 700,
   "metadata": {},
   "outputs": [
    {
     "data": {
      "image/png": "[encoded data removed]",
      "text/plain": [
       "<Figure size 432x288 with 1 Axes>"
      ]
     },
     "metadata": {
      "needs_background": "light"
     },
     "output_type": "display_data"
    }
   ],
   "source": [
    "k = 3\n",
    "X = X_train0\n",
    "y = y_train0\n",
    "out0 = []\n",
    "\n",
    "for i in range(10):  \n",
    "    mu = np.mean(X)\n",
    "    sigma = np.cov(X, rowvar =False)\n",
    "    mus = mvn.rvs(mu, sigma, size=k)\n",
    "    sigmas = []\n",
    "    for j in range(k):\n",
    "        sigmas.append(sigma.copy())\n",
    "    pis = np.repeat(1/k, k)\n",
    "    res = em_gmm(X, pis, mus, sigmas)\n",
    "    out0.append(res)\n",
    "    plt.plot(range(5,31), res[3][5:], label=str(i+1))\n",
    "_ = plt.legend()"
   ]
  },
  {
   "cell_type": "code",
   "execution_count": 584,
   "metadata": {
    "collapsed": true
   },
   "outputs": [],
   "source": [
    "def predict(x, p, best0, best1, k):\n",
    "    pis0 = best0[0]\n",
    "    mus0 = best0[1]\n",
    "    sigmas0 = best0[2]\n",
    "    pis1 = best1[0]\n",
    "    mus1 = best1[1]\n",
    "    sigmas1 = best1[2]\n",
    "\n",
    "    prob0 = 0\n",
    "    prob1 = 0\n",
    "    for i in range(k):\n",
    "        prob0 += pis0[i] * mvn(mus0[i], sigmas0[i]).pdf(x)\n",
    "        prob1 += pis1[i] * mvn(mus1[i], sigmas1[i]).pdf(x)\n",
    "    prob0 *= p\n",
    "    prob1 *= (1 - p)\n",
    "    if prob0 > prob1:\n",
    "        return 0\n",
    "    else:\n",
    "        return 1"
   ]
  },
  {
   "cell_type": "code",
   "execution_count": 701,
   "metadata": {},
   "outputs": [
    {
     "name": "stdout",
     "output_type": "stream",
     "text": [
      "[203, 9] \n",
      " [75, 173]\n",
      "accuracy is:  0.8173913043478261\n"
     ]
    }
   ],
   "source": [
    "best1 = out1[1]\n",
    "best0 = out0[2]\n",
    "p = y_train1.shape[0] / y_train.shape[0]\n",
    "x = X_test.iloc[-4]\n",
    "\n",
    "preds = X_test.apply(lambda x: predict(x, p, best0, best1, k), axis=1)\n",
    "\n",
    "matrix = [[0,0],[0,0]]\n",
    "for i in range(len(preds)):\n",
    "    pred = preds[i]\n",
    "    actual = y_test[0].values[i]\n",
    "    matrix[pred][actual] += 1\n",
    "\n",
    "print(matrix[0], '\\n', matrix[1])\n",
    "print(\"accuracy is: \", (matrix[0][0] + matrix[1][1]) / 460)"
   ]
  },
  {
   "cell_type": "code",
   "execution_count": 702,
   "metadata": {
    "collapsed": true
   },
   "outputs": [],
   "source": [
    "def build_predictor(k):\n",
    "    X = X_train1\n",
    "    y = y_train1 \n",
    "\n",
    "    mu = np.mean(X)\n",
    "    sigma = np.cov(X, rowvar =False)\n",
    "    mus = mvn.rvs(mu, sigma, size=k)\n",
    "    if k == 1:\n",
    "        mus = [mus]\n",
    "    sigmas = []\n",
    "    for j in range(k):\n",
    "        sigmas.append(sigma.copy())\n",
    "    pis = np.repeat(1/k, k)\n",
    "    best1 = em_gmm(X, pis, mus, sigmas)\n",
    "\n",
    "    X = X_train0\n",
    "    y = y_train0\n",
    "\n",
    "    mu = np.mean(X)\n",
    "    sigma = np.cov(X, rowvar =False)\n",
    "    mus = mvn.rvs(mu, sigma, size=k)\n",
    "    if k == 1:\n",
    "        mus = [mus]\n",
    "    sigmas = []\n",
    "    for j in range(k):\n",
    "        sigmas.append(sigma.copy())\n",
    "    pis = np.repeat(1/k, k)\n",
    "    best0 = em_gmm(X, pis, mus, sigmas)\n",
    "    \n",
    "    def predict(x):\n",
    "        p = 0.3939613526570048\n",
    "        pis0 = best0[0]\n",
    "        mus0 = best0[1]\n",
    "        sigmas0 = best0[2]\n",
    "        pis1 = best1[0]\n",
    "        mus1 = best1[1]\n",
    "        sigmas1 = best1[2]\n",
    "\n",
    "        prob0 = 0\n",
    "        prob1 = 0\n",
    "        for i in range(k):\n",
    "            prob0 += pis0[i] * mvn(mus0[i], sigmas0[i]).pdf(x)\n",
    "            prob1 += pis1[i] * mvn(mus1[i], sigmas1[i]).pdf(x)\n",
    "        prob0 *= p\n",
    "        prob1 *= (1 - p)\n",
    "        if prob0 > prob1:\n",
    "            return 0\n",
    "        else:\n",
    "            return 1\n",
    "    return predict"
   ]
  },
  {
   "cell_type": "code",
   "execution_count": 705,
   "metadata": {
    "collapsed": true
   },
   "outputs": [],
   "source": [
    "gmm_1 = build_predictor(1)\n",
    "gmm_2 = build_predictor(2)\n",
    "gmm_3 = build_predictor(3)\n",
    "gmm_4 = build_predictor(4)"
   ]
  },
  {
   "cell_type": "code",
   "execution_count": 710,
   "metadata": {},
   "outputs": [
    {
     "name": "stdout",
     "output_type": "stream",
     "text": [
      "[180, 6] \n",
      " [98, 176]\n",
      "For k = 1, accuracy is:  0.7739130434782608\n"
     ]
    }
   ],
   "source": [
    "preds = X_test.apply(gmm_1, axis=1)\n",
    "\n",
    "matrix = [[0,0],[0,0]]\n",
    "for i in range(len(preds)):\n",
    "    pred = preds[i]\n",
    "    actual = y_test[0].values[i]\n",
    "    matrix[pred][actual] += 1\n",
    "\n",
    "print(matrix[0], '\\n', matrix[1])\n",
    "print(\"For k = 1, accuracy is: \", (matrix[0][0] + matrix[1][1]) / 460)"
   ]
  },
  {
   "cell_type": "code",
   "execution_count": 711,
   "metadata": {},
   "outputs": [
    {
     "name": "stdout",
     "output_type": "stream",
     "text": [
      "[194, 8] \n",
      " [84, 174]\n",
      "For k = 2, accuracy is:  0.8\n"
     ]
    }
   ],
   "source": [
    "preds = X_test.apply(gmm_2, axis=1)\n",
    "\n",
    "matrix = [[0,0],[0,0]]\n",
    "for i in range(len(preds)):\n",
    "    pred = preds[i]\n",
    "    actual = y_test[0].values[i]\n",
    "    matrix[pred][actual] += 1\n",
    "\n",
    "print(matrix[0], '\\n', matrix[1])\n",
    "print(\"For k = 2, accuracy is: \", (matrix[0][0] + matrix[1][1]) / 460)"
   ]
  },
  {
   "cell_type": "code",
   "execution_count": 712,
   "metadata": {},
   "outputs": [
    {
     "name": "stdout",
     "output_type": "stream",
     "text": [
      "[226, 14] \n",
      " [52, 168]\n",
      "For k = 3, accuracy is:  0.8565217391304348\n"
     ]
    }
   ],
   "source": [
    "preds = X_test.apply(gmm_3, axis=1)\n",
    "\n",
    "matrix = [[0,0],[0,0]]\n",
    "for i in range(len(preds)):\n",
    "    pred = preds[i]\n",
    "    actual = y_test[0].values[i]\n",
    "    matrix[pred][actual] += 1\n",
    "\n",
    "print(matrix[0], '\\n', matrix[1])\n",
    "print(\"For k = 3, accuracy is: \", (matrix[0][0] + matrix[1][1]) / 460)"
   ]
  },
  {
   "cell_type": "code",
   "execution_count": 713,
   "metadata": {},
   "outputs": [
    {
     "name": "stdout",
     "output_type": "stream",
     "text": [
      "[200, 9] \n",
      " [78, 173]\n",
      "For k = 4, accuracy is:  0.8108695652173913\n"
     ]
    }
   ],
   "source": [
    "preds = X_test.apply(gmm_4, axis=1)\n",
    "\n",
    "matrix = [[0,0],[0,0]]\n",
    "for i in range(len(preds)):\n",
    "    pred = preds[i]\n",
    "    actual = y_test[0].values[i]\n",
    "    matrix[pred][actual] += 1\n",
    "\n",
    "print(matrix[0], '\\n', matrix[1])\n",
    "print(\"For k = 4, accuracy is: \", (matrix[0][0] + matrix[1][1]) / 460)"
   ]
  },
  {
   "cell_type": "markdown",
   "metadata": {},
   "source": [
    "## Problem 3"
   ]
  },
  {
   "cell_type": "code",
   "execution_count": 37,
   "metadata": {
    "collapsed": true
   },
   "outputs": [],
   "source": [
    "df = pd.read_csv('data/hw3-data/Prob3_ratings.csv', header= None)"
   ]
  },
  {
   "cell_type": "code",
   "execution_count": 38,
   "metadata": {
    "collapsed": true
   },
   "outputs": [],
   "source": [
    "df_test = pd.read_csv('data/hw3-data/Prob3_ratings_test.csv', header= None)"
   ]
  },
  {
   "cell_type": "code",
   "execution_count": 39,
   "metadata": {
    "collapsed": true
   },
   "outputs": [],
   "source": [
    "df.columns = ['uid','movie_id','rating']"
   ]
  },
  {
   "cell_type": "code",
   "execution_count": 40,
   "metadata": {
    "collapsed": true
   },
   "outputs": [],
   "source": [
    "df_test.columns = ['uid','movie_id','rating']"
   ]
  },
  {
   "cell_type": "code",
   "execution_count": 41,
   "metadata": {
    "collapsed": true
   },
   "outputs": [],
   "source": [
    "M= np.zeros((df['uid'].max(),df['movie_id'].max()))\n",
    "M_test = np.zeros((df['uid'].max(),df['movie_id'].max()))"
   ]
  },
  {
   "cell_type": "code",
   "execution_count": 42,
   "metadata": {
    "collapsed": true
   },
   "outputs": [],
   "source": [
    "for row in df.iterrows():\n",
    "    M[int(row[1]['uid']-1), int(row[1]['movie_id']-1)] = row[1]['rating']"
   ]
  },
  {
   "cell_type": "code",
   "execution_count": 43,
   "metadata": {
    "collapsed": true
   },
   "outputs": [],
   "source": [
    "for row in df_test.iterrows():\n",
    "    M_test[int(row[1]['uid']-1), int(row[1]['movie_id']-1)] = row[1]['rating']"
   ]
  },
  {
   "cell_type": "markdown",
   "metadata": {},
   "source": [
    "ui = index set of objects rated by user i\n",
    "vj = index set of users who rated object j"
   ]
  },
  {
   "cell_type": "code",
   "execution_count": 46,
   "metadata": {
    "collapsed": true
   },
   "outputs": [],
   "source": [
    "test_idx = np.where(M_test!=0)\n",
    "train_idx = np.where(M!=0)\n",
    "n_test = len(M[test_idx])\n",
    "n_train = len(M[train_idx])"
   ]
  },
  {
   "cell_type": "code",
   "execution_count": 123,
   "metadata": {
    "code_folding": []
   },
   "outputs": [],
   "source": [
    "rmse_test_out= []\n",
    "rmse_train_out = []\n",
    "obj_out = [] \n",
    "U_out = []\n",
    "V_out = []\n",
    "\n",
    "for runs in range(10):\n",
    "    obj_arr = [] \n",
    "    rmse_test_arr = []\n",
    "    rmse_train_arr = []\n",
    "    U= np.random.multivariate_normal(np.zeros(10),np.identity(10),df['uid'].max())\n",
    "    V= np.random.multivariate_normal(np.zeros(10),np.identity(10),df['movie_id'].max())\n",
    "    for iteration in range(100):\n",
    "        for ui in range(M.shape[0]):\n",
    "            idx = np.where(M[ui] != 0)\n",
    "            out= np.zeros((10,10))\n",
    "            outm = np.zeros((10,1))\n",
    "            for i in idx[0]:\n",
    "                ro = V[i].reshape(10,1)\n",
    "                out += ro.dot(ro.T)\n",
    "                outm += M[ui][i]*ro\n",
    "            U[ui] = inv(np.identity(10)*.25 + out).dot(outm).flatten()\n",
    "            l2 = ro.dot(ro.T)\n",
    "        for vj in range(M.shape[1]):\n",
    "            idx = np.where(M[:,vj] != 0)\n",
    "            out= np.zeros((10,10))\n",
    "            outm = np.zeros((10,1))\n",
    "            for i in idx[0]:\n",
    "                ro = U[i].reshape(10,1)\n",
    "                out += ro.dot(ro.T)\n",
    "                outm += M[:,vj][i]*ro\n",
    "            V[vj] = inv(np.identity(10)*.25 + out).dot(outm).flatten()\n",
    "        \n",
    "        L1 = 0\n",
    "        L2 = 0\n",
    "        L3 = 0\n",
    "        for i,j in zip(train_idx[0],train_idx[1]):\n",
    "            L1 += (M[i,j] - U[i].dot(V[j]))**2\n",
    "        for i in range(M.shape[0]):\n",
    "            L2 += U[i].dot(U[i])\n",
    "        for j in range(M.shape[1]):\n",
    "            L3 += V[j].dot(V[j])\n",
    "        \n",
    "        obj = -2*L1 -1/2*L2 - 1/2*L3 \n",
    "        \n",
    "        preds = U.dot(V.T)\n",
    "        rmse_test = np.sqrt(((M_test[test_idx]- preds[test_idx])**2).sum()/n_test)\n",
    "        rmse_train = np.sqrt(((M[train_idx]- preds[train_idx])**2).sum()/n_train)\n",
    "        rmse_test_arr.append(rmse_test)\n",
    "        rmse_train_arr.append(rmse_train)\n",
    "        \n",
    "        if iteration>0:\n",
    "            obj_arr.append(obj)\n",
    "    U_out.append(U)\n",
    "    V_out.append(V)\n",
    "    rmse_test_out.append(rmse_test_arr)\n",
    "    rmse_train_out.append(rmse_train_arr)\n",
    "    obj_out.append(obj_arr)\n",
    "        "
   ]
  },
  {
   "cell_type": "code",
   "execution_count": 183,
   "metadata": {},
   "outputs": [
    {
     "data": {
      "text/plain": [
       "<matplotlib.legend.Legend at 0x16d2f95eb00>"
      ]
     },
     "execution_count": 183,
     "metadata": {},
     "output_type": "execute_result"
    },
    {
     "data": {
      "image/png": "[encoded data removed]",
      "text/plain": [
       "<Figure size 432x288 with 1 Axes>"
      ]
     },
     "metadata": {},
     "output_type": "display_data"
    }
   ],
   "source": [
    "for idx, val in enumerate(obj_out):\n",
    "    plt.plot(range(1,100), obj_out[idx], label= \"Run: \"+ str(idx+1))\n",
    "plt.title(\"Log Joint Likelihood for 10 trials across iterations 2-100\")\n",
    "plt.xlabel(\"Iteration Step\")\n",
    "plt.ylabel(\"Log Joint Likelihood\")\n",
    "plt.legend()"
   ]
  },
  {
   "cell_type": "code",
   "execution_count": 191,
   "metadata": {},
   "outputs": [],
   "source": [
    "test_rmse_fin =[]\n",
    "obj_fn_fin = []\n",
    "for t,o in zip(rmse_test_out, obj_out):\n",
    "    test_rmse_fin.append(t[99])\n",
    "    obj_fn_fin.append(o[98])"
   ]
  },
  {
   "cell_type": "code",
   "execution_count": 205,
   "metadata": {},
   "outputs": [],
   "source": [
    "report_obj = pd.DataFrame(\n",
    "    { \n",
    "     'joint_log_likelihood': obj_fn_fin,\n",
    "     'test_set_RMSE': test_rmse_fin\n",
    "    })"
   ]
  },
  {
   "cell_type": "code",
   "execution_count": 212,
   "metadata": {},
   "outputs": [],
   "source": [
    "report_obj.index=(range(1,11))"
   ]
  },
  {
   "cell_type": "code",
   "execution_count": 213,
   "metadata": {},
   "outputs": [
    {
     "data": {
      "text/html": [
       "<div>\n",
       "<style>\n",
       "    .dataframe thead tr:only-child th {\n",
       "        text-align: right;\n",
       "    }\n",
       "\n",
       "    .dataframe thead th {\n",
       "        text-align: left;\n",
       "    }\n",
       "\n",
       "    .dataframe tbody tr th {\n",
       "        vertical-align: top;\n",
       "    }\n",
       "</style>\n",
       "<table border=\"1\" class=\"dataframe\">\n",
       "  <thead>\n",
       "    <tr style=\"text-align: right;\">\n",
       "      <th></th>\n",
       "      <th>joint_log_likelihood</th>\n",
       "      <th>test_set_RMSE</th>\n",
       "    </tr>\n",
       "  </thead>\n",
       "  <tbody>\n",
       "    <tr>\n",
       "      <th>10</th>\n",
       "      <td>-90934.018344</td>\n",
       "      <td>1.130670</td>\n",
       "    </tr>\n",
       "    <tr>\n",
       "      <th>1</th>\n",
       "      <td>-91065.581587</td>\n",
       "      <td>1.104772</td>\n",
       "    </tr>\n",
       "    <tr>\n",
       "      <th>7</th>\n",
       "      <td>-91177.001490</td>\n",
       "      <td>1.131800</td>\n",
       "    </tr>\n",
       "    <tr>\n",
       "      <th>3</th>\n",
       "      <td>-91220.628476</td>\n",
       "      <td>1.107440</td>\n",
       "    </tr>\n",
       "    <tr>\n",
       "      <th>6</th>\n",
       "      <td>-91227.346308</td>\n",
       "      <td>1.130560</td>\n",
       "    </tr>\n",
       "    <tr>\n",
       "      <th>5</th>\n",
       "      <td>-91231.434833</td>\n",
       "      <td>1.111096</td>\n",
       "    </tr>\n",
       "    <tr>\n",
       "      <th>4</th>\n",
       "      <td>-91276.418550</td>\n",
       "      <td>1.149899</td>\n",
       "    </tr>\n",
       "    <tr>\n",
       "      <th>8</th>\n",
       "      <td>-91297.915979</td>\n",
       "      <td>1.128656</td>\n",
       "    </tr>\n",
       "    <tr>\n",
       "      <th>9</th>\n",
       "      <td>-91353.129632</td>\n",
       "      <td>1.092879</td>\n",
       "    </tr>\n",
       "    <tr>\n",
       "      <th>2</th>\n",
       "      <td>-91361.308203</td>\n",
       "      <td>1.147206</td>\n",
       "    </tr>\n",
       "  </tbody>\n",
       "</table>\n",
       "</div>"
      ],
      "text/plain": [
       "    joint_log_likelihood  test_set_RMSE\n",
       "10         -90934.018344       1.130670\n",
       "1          -91065.581587       1.104772\n",
       "7          -91177.001490       1.131800\n",
       "3          -91220.628476       1.107440\n",
       "6          -91227.346308       1.130560\n",
       "5          -91231.434833       1.111096\n",
       "4          -91276.418550       1.149899\n",
       "8          -91297.915979       1.128656\n",
       "9          -91353.129632       1.092879\n",
       "2          -91361.308203       1.147206"
      ]
     },
     "execution_count": 213,
     "metadata": {},
     "output_type": "execute_result"
    }
   ],
   "source": [
    "report_obj.sort_values(by = ['joint_log_likelihood'],ascending=False)"
   ]
  },
  {
   "cell_type": "code",
   "execution_count": 148,
   "metadata": {
    "collapsed": true
   },
   "outputs": [],
   "source": [
    "with open('data/hw3-data/Prob3_movies.txt') as f:\n",
    "    lines = f.readlines()"
   ]
  },
  {
   "cell_type": "code",
   "execution_count": 220,
   "metadata": {},
   "outputs": [],
   "source": [
    "V=V_out[9]"
   ]
  },
  {
   "cell_type": "markdown",
   "metadata": {},
   "source": [
    "star wars= 49\n",
    "my fair lady = 484\n",
    "goodfelellas = 181"
   ]
  },
  {
   "cell_type": "code",
   "execution_count": 221,
   "metadata": {},
   "outputs": [],
   "source": [
    "v_star = V[49]\n",
    "v_my_fair = V[484]\n",
    "v_good = V[181]\n",
    "dist_star=[]\n",
    "dist_fair=[]\n",
    "dist_good = []\n",
    "for v in V:\n",
    "    dist_star.append(np.sqrt(((v - v_star)**2).sum()))\n",
    "    dist_fair.append(np.sqrt(((v - v_my_fair)**2).sum()))\n",
    "    dist_good.append(np.sqrt(((v - v_good)**2).sum()))"
   ]
  },
  {
   "cell_type": "code",
   "execution_count": 222,
   "metadata": {},
   "outputs": [],
   "source": [
    "star_idx=np.argsort(dist_star)[:11]\n",
    "fair_idx= np.argsort(dist_fair)[:11]\n",
    "good_idx= np.argsort(dist_good)[:11]"
   ]
  },
  {
   "cell_type": "code",
   "execution_count": 229,
   "metadata": {},
   "outputs": [],
   "source": [
    "report = pd.DataFrame(\n",
    "    {'star_wars_nearest_movies': [lines[i] for i in star_idx if i >0],\n",
    "     'star_wars_distances': [dist_star[i] for i in star_idx if i >0],\n",
    "     'my_fair_lady_nearest_movies': [lines[i] for i in fair_idx if i >0],\n",
    "     'my_fair_lady_distances': [dist_fair[i] for i in fair_idx if i >0],\n",
    "     'good_fellas_nearest_movies': [lines[i] for i in good_idx if i >0],\n",
    "     'good_fellas_distances': [dist_good[i] for i in good_idx if i >0]\n",
    "    })"
   ]
  },
  {
   "cell_type": "code",
   "execution_count": 233,
   "metadata": {},
   "outputs": [],
   "source": [
    "report=report[['star_wars_nearest_movies','star_wars_distances','my_fair_lady_nearest_movies','my_fair_lady_distances','good_fellas_nearest_movies','good_fellas_distances']]"
   ]
  },
  {
   "cell_type": "code",
   "execution_count": 234,
   "metadata": {},
   "outputs": [
    {
     "data": {
      "text/html": [
       "<div>\n",
       "<style>\n",
       "    .dataframe thead tr:only-child th {\n",
       "        text-align: right;\n",
       "    }\n",
       "\n",
       "    .dataframe thead th {\n",
       "        text-align: left;\n",
       "    }\n",
       "\n",
       "    .dataframe tbody tr th {\n",
       "        vertical-align: top;\n",
       "    }\n",
       "</style>\n",
       "<table border=\"1\" class=\"dataframe\">\n",
       "  <thead>\n",
       "    <tr style=\"text-align: right;\">\n",
       "      <th></th>\n",
       "      <th>star_wars_nearest_movies</th>\n",
       "      <th>star_wars_distances</th>\n",
       "      <th>my_fair_lady_nearest_movies</th>\n",
       "      <th>my_fair_lady_distances</th>\n",
       "      <th>good_fellas_nearest_movies</th>\n",
       "      <th>good_fellas_distances</th>\n",
       "    </tr>\n",
       "  </thead>\n",
       "  <tbody>\n",
       "    <tr>\n",
       "      <th>1</th>\n",
       "      <td>Empire Strikes Back, The (1980)\\n</td>\n",
       "      <td>0.293517</td>\n",
       "      <td>My Family (1995)\\n</td>\n",
       "      <td>0.779790</td>\n",
       "      <td>Casino (1995)\\n</td>\n",
       "      <td>0.578276</td>\n",
       "    </tr>\n",
       "    <tr>\n",
       "      <th>2</th>\n",
       "      <td>Raiders of the Lost Ark (1981)\\n</td>\n",
       "      <td>0.559219</td>\n",
       "      <td>Mary Poppins (1964)\\n</td>\n",
       "      <td>0.820708</td>\n",
       "      <td>Apocalypse Now (1979)\\n</td>\n",
       "      <td>0.647309</td>\n",
       "    </tr>\n",
       "    <tr>\n",
       "      <th>3</th>\n",
       "      <td>Return of the Jedi (1983)\\n</td>\n",
       "      <td>0.601960</td>\n",
       "      <td>Victor/Victoria (1982)\\n</td>\n",
       "      <td>0.898342</td>\n",
       "      <td>Bonnie and Clyde (1967)\\n</td>\n",
       "      <td>0.660214</td>\n",
       "    </tr>\n",
       "    <tr>\n",
       "      <th>4</th>\n",
       "      <td>Day the Earth Stood Still, The (1951)\\n</td>\n",
       "      <td>0.679226</td>\n",
       "      <td>SubUrbia (1997)\\n</td>\n",
       "      <td>0.905649</td>\n",
       "      <td>Godfather, The (1972)\\n</td>\n",
       "      <td>0.771200</td>\n",
       "    </tr>\n",
       "    <tr>\n",
       "      <th>5</th>\n",
       "      <td>Usual Suspects, The (1995)\\n</td>\n",
       "      <td>0.792622</td>\n",
       "      <td>American in Paris, An (1951)\\n</td>\n",
       "      <td>0.937764</td>\n",
       "      <td>Full Metal Jacket (1987)\\n</td>\n",
       "      <td>0.775229</td>\n",
       "    </tr>\n",
       "    <tr>\n",
       "      <th>6</th>\n",
       "      <td>Indiana Jones and the Last Crusade (1989)\\n</td>\n",
       "      <td>0.885387</td>\n",
       "      <td>Winnie the Pooh and the Blustery Day (1968)\\n</td>\n",
       "      <td>0.954901</td>\n",
       "      <td>People vs. Larry Flynt, The (1996)\\n</td>\n",
       "      <td>0.776257</td>\n",
       "    </tr>\n",
       "    <tr>\n",
       "      <th>7</th>\n",
       "      <td>Love in the Afternoon (1957)\\n</td>\n",
       "      <td>0.893234</td>\n",
       "      <td>Return of Martin Guerre, The (Retour de Martin...</td>\n",
       "      <td>0.992021</td>\n",
       "      <td>Good, The Bad and The Ugly, The (1966)\\n</td>\n",
       "      <td>0.777804</td>\n",
       "    </tr>\n",
       "    <tr>\n",
       "      <th>8</th>\n",
       "      <td>Blues Brothers, The (1980)\\n</td>\n",
       "      <td>0.912179</td>\n",
       "      <td>Sabrina (1954)\\n</td>\n",
       "      <td>0.994884</td>\n",
       "      <td>Godfather: Part II, The (1974)\\n</td>\n",
       "      <td>0.820151</td>\n",
       "    </tr>\n",
       "    <tr>\n",
       "      <th>9</th>\n",
       "      <td>Terminator, The (1984)\\n</td>\n",
       "      <td>0.925282</td>\n",
       "      <td>Nï¿½nette et Boni (1996)\\n</td>\n",
       "      <td>1.005537</td>\n",
       "      <td>Once Upon a Time in the West (1969)\\n</td>\n",
       "      <td>0.849363</td>\n",
       "    </tr>\n",
       "    <tr>\n",
       "      <th>10</th>\n",
       "      <td>Princess Bride, The (1987)\\n</td>\n",
       "      <td>0.926964</td>\n",
       "      <td>Cinderella (1950)\\n</td>\n",
       "      <td>1.018067</td>\n",
       "      <td>Carlito's Way (1993)\\n</td>\n",
       "      <td>0.919316</td>\n",
       "    </tr>\n",
       "  </tbody>\n",
       "</table>\n",
       "</div>"
      ],
      "text/plain": [
       "                       star_wars_nearest_movies  star_wars_distances  \\\n",
       "1             Empire Strikes Back, The (1980)\\n             0.293517   \n",
       "2              Raiders of the Lost Ark (1981)\\n             0.559219   \n",
       "3                   Return of the Jedi (1983)\\n             0.601960   \n",
       "4       Day the Earth Stood Still, The (1951)\\n             0.679226   \n",
       "5                  Usual Suspects, The (1995)\\n             0.792622   \n",
       "6   Indiana Jones and the Last Crusade (1989)\\n             0.885387   \n",
       "7                Love in the Afternoon (1957)\\n             0.893234   \n",
       "8                  Blues Brothers, The (1980)\\n             0.912179   \n",
       "9                      Terminator, The (1984)\\n             0.925282   \n",
       "10                 Princess Bride, The (1987)\\n             0.926964   \n",
       "\n",
       "                          my_fair_lady_nearest_movies  my_fair_lady_distances  \\\n",
       "1                                  My Family (1995)\\n                0.779790   \n",
       "2                               Mary Poppins (1964)\\n                0.820708   \n",
       "3                            Victor/Victoria (1982)\\n                0.898342   \n",
       "4                                   SubUrbia (1997)\\n                0.905649   \n",
       "5                      American in Paris, An (1951)\\n                0.937764   \n",
       "6       Winnie the Pooh and the Blustery Day (1968)\\n                0.954901   \n",
       "7   Return of Martin Guerre, The (Retour de Martin...                0.992021   \n",
       "8                                    Sabrina (1954)\\n                0.994884   \n",
       "9                          Nï¿½nette et Boni (1996)\\n                1.005537   \n",
       "10                                Cinderella (1950)\\n                1.018067   \n",
       "\n",
       "                  good_fellas_nearest_movies  good_fellas_distances  \n",
       "1                            Casino (1995)\\n               0.578276  \n",
       "2                    Apocalypse Now (1979)\\n               0.647309  \n",
       "3                  Bonnie and Clyde (1967)\\n               0.660214  \n",
       "4                    Godfather, The (1972)\\n               0.771200  \n",
       "5                 Full Metal Jacket (1987)\\n               0.775229  \n",
       "6       People vs. Larry Flynt, The (1996)\\n               0.776257  \n",
       "7   Good, The Bad and The Ugly, The (1966)\\n               0.777804  \n",
       "8           Godfather: Part II, The (1974)\\n               0.820151  \n",
       "9      Once Upon a Time in the West (1969)\\n               0.849363  \n",
       "10                    Carlito's Way (1993)\\n               0.919316  "
      ]
     },
     "execution_count": 234,
     "metadata": {},
     "output_type": "execute_result"
    }
   ],
   "source": [
    "report[report.index>0]"
   ]
  },
  {
   "cell_type": "code",
   "execution_count": 111,
   "metadata": {},
   "outputs": [
    {
     "data": {
      "image/png": "[encoded data removed]",
      "text/plain": [
       "<Figure size 432x288 with 1 Axes>"
      ]
     },
     "metadata": {},
     "output_type": "display_data"
    }
   ],
   "source": [
    "plt.plot(rmse_test_out[0])\n",
    "plt.show()"
   ]
  },
  {
   "cell_type": "code",
   "execution_count": 49,
   "metadata": {},
   "outputs": [
    {
     "data": {
      "image/png": "[encoded data removed]",
      "text/plain": [
       "<Figure size 432x288 with 1 Axes>"
      ]
     },
     "metadata": {},
     "output_type": "display_data"
    }
   ],
   "source": [
    "plt.plot(rmse_train_arr)\n",
    "plt.show()"
   ]
  }
 ],
 "metadata": {
  "kernelspec": {
   "display_name": "Python 3",
   "language": "python",
   "name": "python3"
  },
  "language_info": {
   "codemirror_mode": {
    "name": "ipython",
    "version": 3
   },
   "file_extension": ".py",
   "mimetype": "text/x-python",
   "name": "python",
   "nbconvert_exporter": "python",
   "pygments_lexer": "ipython3",
   "version": "3.6.3"
  }
 },
 "nbformat": 4,
 "nbformat_minor": 2
}
